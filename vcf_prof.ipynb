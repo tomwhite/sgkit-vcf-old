{
 "cells": [
  {
   "cell_type": "markdown",
   "metadata": {},
   "source": [
    "### Profiling VCF reading using cyvcf2"
   ]
  },
  {
   "cell_type": "code",
   "execution_count": 1,
   "metadata": {},
   "outputs": [
    {
     "data": {
      "text/html": [
       "\n",
       "    <div class=\"bk-root\">\n",
       "        <a href=\"https://bokeh.org\" target=\"_blank\" class=\"bk-logo bk-logo-small bk-logo-notebook\"></a>\n",
       "        <span id=\"1001\">Loading BokehJS ...</span>\n",
       "    </div>"
      ]
     },
     "metadata": {},
     "output_type": "display_data"
    },
    {
     "data": {
      "application/javascript": [
       "\n",
       "(function(root) {\n",
       "  function now() {\n",
       "    return new Date();\n",
       "  }\n",
       "\n",
       "  var force = true;\n",
       "\n",
       "  if (typeof root._bokeh_onload_callbacks === \"undefined\" || force === true) {\n",
       "    root._bokeh_onload_callbacks = [];\n",
       "    root._bokeh_is_loading = undefined;\n",
       "  }\n",
       "\n",
       "  var JS_MIME_TYPE = 'application/javascript';\n",
       "  var HTML_MIME_TYPE = 'text/html';\n",
       "  var EXEC_MIME_TYPE = 'application/vnd.bokehjs_exec.v0+json';\n",
       "  var CLASS_NAME = 'output_bokeh rendered_html';\n",
       "\n",
       "  /**\n",
       "   * Render data to the DOM node\n",
       "   */\n",
       "  function render(props, node) {\n",
       "    var script = document.createElement(\"script\");\n",
       "    node.appendChild(script);\n",
       "  }\n",
       "\n",
       "  /**\n",
       "   * Handle when an output is cleared or removed\n",
       "   */\n",
       "  function handleClearOutput(event, handle) {\n",
       "    var cell = handle.cell;\n",
       "\n",
       "    var id = cell.output_area._bokeh_element_id;\n",
       "    var server_id = cell.output_area._bokeh_server_id;\n",
       "    // Clean up Bokeh references\n",
       "    if (id != null && id in Bokeh.index) {\n",
       "      Bokeh.index[id].model.document.clear();\n",
       "      delete Bokeh.index[id];\n",
       "    }\n",
       "\n",
       "    if (server_id !== undefined) {\n",
       "      // Clean up Bokeh references\n",
       "      var cmd = \"from bokeh.io.state import curstate; print(curstate().uuid_to_server['\" + server_id + \"'].get_sessions()[0].document.roots[0]._id)\";\n",
       "      cell.notebook.kernel.execute(cmd, {\n",
       "        iopub: {\n",
       "          output: function(msg) {\n",
       "            var id = msg.content.text.trim();\n",
       "            if (id in Bokeh.index) {\n",
       "              Bokeh.index[id].model.document.clear();\n",
       "              delete Bokeh.index[id];\n",
       "            }\n",
       "          }\n",
       "        }\n",
       "      });\n",
       "      // Destroy server and session\n",
       "      var cmd = \"import bokeh.io.notebook as ion; ion.destroy_server('\" + server_id + \"')\";\n",
       "      cell.notebook.kernel.execute(cmd);\n",
       "    }\n",
       "  }\n",
       "\n",
       "  /**\n",
       "   * Handle when a new output is added\n",
       "   */\n",
       "  function handleAddOutput(event, handle) {\n",
       "    var output_area = handle.output_area;\n",
       "    var output = handle.output;\n",
       "\n",
       "    // limit handleAddOutput to display_data with EXEC_MIME_TYPE content only\n",
       "    if ((output.output_type != \"display_data\") || (!output.data.hasOwnProperty(EXEC_MIME_TYPE))) {\n",
       "      return\n",
       "    }\n",
       "\n",
       "    var toinsert = output_area.element.find(\".\" + CLASS_NAME.split(' ')[0]);\n",
       "\n",
       "    if (output.metadata[EXEC_MIME_TYPE][\"id\"] !== undefined) {\n",
       "      toinsert[toinsert.length - 1].firstChild.textContent = output.data[JS_MIME_TYPE];\n",
       "      // store reference to embed id on output_area\n",
       "      output_area._bokeh_element_id = output.metadata[EXEC_MIME_TYPE][\"id\"];\n",
       "    }\n",
       "    if (output.metadata[EXEC_MIME_TYPE][\"server_id\"] !== undefined) {\n",
       "      var bk_div = document.createElement(\"div\");\n",
       "      bk_div.innerHTML = output.data[HTML_MIME_TYPE];\n",
       "      var script_attrs = bk_div.children[0].attributes;\n",
       "      for (var i = 0; i < script_attrs.length; i++) {\n",
       "        toinsert[toinsert.length - 1].firstChild.setAttribute(script_attrs[i].name, script_attrs[i].value);\n",
       "        toinsert[toinsert.length - 1].firstChild.textContent = bk_div.children[0].textContent\n",
       "      }\n",
       "      // store reference to server id on output_area\n",
       "      output_area._bokeh_server_id = output.metadata[EXEC_MIME_TYPE][\"server_id\"];\n",
       "    }\n",
       "  }\n",
       "\n",
       "  function register_renderer(events, OutputArea) {\n",
       "\n",
       "    function append_mime(data, metadata, element) {\n",
       "      // create a DOM node to render to\n",
       "      var toinsert = this.create_output_subarea(\n",
       "        metadata,\n",
       "        CLASS_NAME,\n",
       "        EXEC_MIME_TYPE\n",
       "      );\n",
       "      this.keyboard_manager.register_events(toinsert);\n",
       "      // Render to node\n",
       "      var props = {data: data, metadata: metadata[EXEC_MIME_TYPE]};\n",
       "      render(props, toinsert[toinsert.length - 1]);\n",
       "      element.append(toinsert);\n",
       "      return toinsert\n",
       "    }\n",
       "\n",
       "    /* Handle when an output is cleared or removed */\n",
       "    events.on('clear_output.CodeCell', handleClearOutput);\n",
       "    events.on('delete.Cell', handleClearOutput);\n",
       "\n",
       "    /* Handle when a new output is added */\n",
       "    events.on('output_added.OutputArea', handleAddOutput);\n",
       "\n",
       "    /**\n",
       "     * Register the mime type and append_mime function with output_area\n",
       "     */\n",
       "    OutputArea.prototype.register_mime_type(EXEC_MIME_TYPE, append_mime, {\n",
       "      /* Is output safe? */\n",
       "      safe: true,\n",
       "      /* Index of renderer in `output_area.display_order` */\n",
       "      index: 0\n",
       "    });\n",
       "  }\n",
       "\n",
       "  // register the mime type if in Jupyter Notebook environment and previously unregistered\n",
       "  if (root.Jupyter !== undefined) {\n",
       "    var events = require('base/js/events');\n",
       "    var OutputArea = require('notebook/js/outputarea').OutputArea;\n",
       "\n",
       "    if (OutputArea.prototype.mime_types().indexOf(EXEC_MIME_TYPE) == -1) {\n",
       "      register_renderer(events, OutputArea);\n",
       "    }\n",
       "  }\n",
       "\n",
       "  \n",
       "  if (typeof (root._bokeh_timeout) === \"undefined\" || force === true) {\n",
       "    root._bokeh_timeout = Date.now() + 5000;\n",
       "    root._bokeh_failed_load = false;\n",
       "  }\n",
       "\n",
       "  var NB_LOAD_WARNING = {'data': {'text/html':\n",
       "     \"<div style='background-color: #fdd'>\\n\"+\n",
       "     \"<p>\\n\"+\n",
       "     \"BokehJS does not appear to have successfully loaded. If loading BokehJS from CDN, this \\n\"+\n",
       "     \"may be due to a slow or bad network connection. Possible fixes:\\n\"+\n",
       "     \"</p>\\n\"+\n",
       "     \"<ul>\\n\"+\n",
       "     \"<li>re-rerun `output_notebook()` to attempt to load from CDN again, or</li>\\n\"+\n",
       "     \"<li>use INLINE resources instead, as so:</li>\\n\"+\n",
       "     \"</ul>\\n\"+\n",
       "     \"<code>\\n\"+\n",
       "     \"from bokeh.resources import INLINE\\n\"+\n",
       "     \"output_notebook(resources=INLINE)\\n\"+\n",
       "     \"</code>\\n\"+\n",
       "     \"</div>\"}};\n",
       "\n",
       "  function display_loaded() {\n",
       "    var el = document.getElementById(\"1001\");\n",
       "    if (el != null) {\n",
       "      el.textContent = \"BokehJS is loading...\";\n",
       "    }\n",
       "    if (root.Bokeh !== undefined) {\n",
       "      if (el != null) {\n",
       "        el.textContent = \"BokehJS \" + root.Bokeh.version + \" successfully loaded.\";\n",
       "      }\n",
       "    } else if (Date.now() < root._bokeh_timeout) {\n",
       "      setTimeout(display_loaded, 100)\n",
       "    }\n",
       "  }\n",
       "\n",
       "\n",
       "  function run_callbacks() {\n",
       "    try {\n",
       "      root._bokeh_onload_callbacks.forEach(function(callback) {\n",
       "        if (callback != null)\n",
       "          callback();\n",
       "      });\n",
       "    } finally {\n",
       "      delete root._bokeh_onload_callbacks\n",
       "    }\n",
       "    console.debug(\"Bokeh: all callbacks have finished\");\n",
       "  }\n",
       "\n",
       "  function load_libs(css_urls, js_urls, callback) {\n",
       "    if (css_urls == null) css_urls = [];\n",
       "    if (js_urls == null) js_urls = [];\n",
       "\n",
       "    root._bokeh_onload_callbacks.push(callback);\n",
       "    if (root._bokeh_is_loading > 0) {\n",
       "      console.debug(\"Bokeh: BokehJS is being loaded, scheduling callback at\", now());\n",
       "      return null;\n",
       "    }\n",
       "    if (js_urls == null || js_urls.length === 0) {\n",
       "      run_callbacks();\n",
       "      return null;\n",
       "    }\n",
       "    console.debug(\"Bokeh: BokehJS not loaded, scheduling load and callback at\", now());\n",
       "    root._bokeh_is_loading = css_urls.length + js_urls.length;\n",
       "\n",
       "    function on_load() {\n",
       "      root._bokeh_is_loading--;\n",
       "      if (root._bokeh_is_loading === 0) {\n",
       "        console.debug(\"Bokeh: all BokehJS libraries/stylesheets loaded\");\n",
       "        run_callbacks()\n",
       "      }\n",
       "    }\n",
       "\n",
       "    function on_error() {\n",
       "      console.error(\"failed to load \" + url);\n",
       "    }\n",
       "\n",
       "    for (var i = 0; i < css_urls.length; i++) {\n",
       "      var url = css_urls[i];\n",
       "      const element = document.createElement(\"link\");\n",
       "      element.onload = on_load;\n",
       "      element.onerror = on_error;\n",
       "      element.rel = \"stylesheet\";\n",
       "      element.type = \"text/css\";\n",
       "      element.href = url;\n",
       "      console.debug(\"Bokeh: injecting link tag for BokehJS stylesheet: \", url);\n",
       "      document.body.appendChild(element);\n",
       "    }\n",
       "\n",
       "    const hashes = {\"https://cdn.bokeh.org/bokeh/release/bokeh-2.1.1.min.js\": \"kLr4fYcqcSpbuI95brIH3vnnYCquzzSxHPU6XGQCIkQRGJwhg0StNbj1eegrHs12\", \"https://cdn.bokeh.org/bokeh/release/bokeh-widgets-2.1.1.min.js\": \"xIGPmVtaOm+z0BqfSOMn4lOR6ciex448GIKG4eE61LsAvmGj48XcMQZtKcE/UXZe\", \"https://cdn.bokeh.org/bokeh/release/bokeh-tables-2.1.1.min.js\": \"Dc9u1wF/0zApGIWoBbH77iWEHtdmkuYWG839Uzmv8y8yBLXebjO9ZnERsde5Ln/P\", \"https://cdn.bokeh.org/bokeh/release/bokeh-gl-2.1.1.min.js\": \"cT9JaBz7GiRXdENrJLZNSC6eMNF3nh3fa5fTF51Svp+ukxPdwcU5kGXGPBgDCa2j\"};\n",
       "\n",
       "    for (var i = 0; i < js_urls.length; i++) {\n",
       "      var url = js_urls[i];\n",
       "      var element = document.createElement('script');\n",
       "      element.onload = on_load;\n",
       "      element.onerror = on_error;\n",
       "      element.async = false;\n",
       "      element.src = url;\n",
       "      if (url in hashes) {\n",
       "        element.crossOrigin = \"anonymous\";\n",
       "        element.integrity = \"sha384-\" + hashes[url];\n",
       "      }\n",
       "      console.debug(\"Bokeh: injecting script tag for BokehJS library: \", url);\n",
       "      document.head.appendChild(element);\n",
       "    }\n",
       "  };\n",
       "\n",
       "  function inject_raw_css(css) {\n",
       "    const element = document.createElement(\"style\");\n",
       "    element.appendChild(document.createTextNode(css));\n",
       "    document.body.appendChild(element);\n",
       "  }\n",
       "\n",
       "  \n",
       "  var js_urls = [\"https://cdn.bokeh.org/bokeh/release/bokeh-2.1.1.min.js\", \"https://cdn.bokeh.org/bokeh/release/bokeh-widgets-2.1.1.min.js\", \"https://cdn.bokeh.org/bokeh/release/bokeh-tables-2.1.1.min.js\", \"https://cdn.bokeh.org/bokeh/release/bokeh-gl-2.1.1.min.js\"];\n",
       "  var css_urls = [];\n",
       "  \n",
       "\n",
       "  var inline_js = [\n",
       "    function(Bokeh) {\n",
       "      Bokeh.set_log_level(\"info\");\n",
       "    },\n",
       "    function(Bokeh) {\n",
       "    \n",
       "    \n",
       "    }\n",
       "  ];\n",
       "\n",
       "  function run_inline_js() {\n",
       "    \n",
       "    if (root.Bokeh !== undefined || force === true) {\n",
       "      \n",
       "    for (var i = 0; i < inline_js.length; i++) {\n",
       "      inline_js[i].call(root, root.Bokeh);\n",
       "    }\n",
       "    if (force === true) {\n",
       "        display_loaded();\n",
       "      }} else if (Date.now() < root._bokeh_timeout) {\n",
       "      setTimeout(run_inline_js, 100);\n",
       "    } else if (!root._bokeh_failed_load) {\n",
       "      console.log(\"Bokeh: BokehJS failed to load within specified timeout.\");\n",
       "      root._bokeh_failed_load = true;\n",
       "    } else if (force !== true) {\n",
       "      var cell = $(document.getElementById(\"1001\")).parents('.cell').data().cell;\n",
       "      cell.output_area.append_execute_result(NB_LOAD_WARNING)\n",
       "    }\n",
       "\n",
       "  }\n",
       "\n",
       "  if (root._bokeh_is_loading === 0) {\n",
       "    console.debug(\"Bokeh: BokehJS loaded, going straight to plotting\");\n",
       "    run_inline_js();\n",
       "  } else {\n",
       "    load_libs(css_urls, js_urls, function() {\n",
       "      console.debug(\"Bokeh: BokehJS plotting callback run at\", now());\n",
       "      run_inline_js();\n",
       "    });\n",
       "  }\n",
       "}(window));"
      ],
      "application/vnd.bokehjs_load.v0+json": "\n(function(root) {\n  function now() {\n    return new Date();\n  }\n\n  var force = true;\n\n  if (typeof root._bokeh_onload_callbacks === \"undefined\" || force === true) {\n    root._bokeh_onload_callbacks = [];\n    root._bokeh_is_loading = undefined;\n  }\n\n  \n\n  \n  if (typeof (root._bokeh_timeout) === \"undefined\" || force === true) {\n    root._bokeh_timeout = Date.now() + 5000;\n    root._bokeh_failed_load = false;\n  }\n\n  var NB_LOAD_WARNING = {'data': {'text/html':\n     \"<div style='background-color: #fdd'>\\n\"+\n     \"<p>\\n\"+\n     \"BokehJS does not appear to have successfully loaded. If loading BokehJS from CDN, this \\n\"+\n     \"may be due to a slow or bad network connection. Possible fixes:\\n\"+\n     \"</p>\\n\"+\n     \"<ul>\\n\"+\n     \"<li>re-rerun `output_notebook()` to attempt to load from CDN again, or</li>\\n\"+\n     \"<li>use INLINE resources instead, as so:</li>\\n\"+\n     \"</ul>\\n\"+\n     \"<code>\\n\"+\n     \"from bokeh.resources import INLINE\\n\"+\n     \"output_notebook(resources=INLINE)\\n\"+\n     \"</code>\\n\"+\n     \"</div>\"}};\n\n  function display_loaded() {\n    var el = document.getElementById(\"1001\");\n    if (el != null) {\n      el.textContent = \"BokehJS is loading...\";\n    }\n    if (root.Bokeh !== undefined) {\n      if (el != null) {\n        el.textContent = \"BokehJS \" + root.Bokeh.version + \" successfully loaded.\";\n      }\n    } else if (Date.now() < root._bokeh_timeout) {\n      setTimeout(display_loaded, 100)\n    }\n  }\n\n\n  function run_callbacks() {\n    try {\n      root._bokeh_onload_callbacks.forEach(function(callback) {\n        if (callback != null)\n          callback();\n      });\n    } finally {\n      delete root._bokeh_onload_callbacks\n    }\n    console.debug(\"Bokeh: all callbacks have finished\");\n  }\n\n  function load_libs(css_urls, js_urls, callback) {\n    if (css_urls == null) css_urls = [];\n    if (js_urls == null) js_urls = [];\n\n    root._bokeh_onload_callbacks.push(callback);\n    if (root._bokeh_is_loading > 0) {\n      console.debug(\"Bokeh: BokehJS is being loaded, scheduling callback at\", now());\n      return null;\n    }\n    if (js_urls == null || js_urls.length === 0) {\n      run_callbacks();\n      return null;\n    }\n    console.debug(\"Bokeh: BokehJS not loaded, scheduling load and callback at\", now());\n    root._bokeh_is_loading = css_urls.length + js_urls.length;\n\n    function on_load() {\n      root._bokeh_is_loading--;\n      if (root._bokeh_is_loading === 0) {\n        console.debug(\"Bokeh: all BokehJS libraries/stylesheets loaded\");\n        run_callbacks()\n      }\n    }\n\n    function on_error() {\n      console.error(\"failed to load \" + url);\n    }\n\n    for (var i = 0; i < css_urls.length; i++) {\n      var url = css_urls[i];\n      const element = document.createElement(\"link\");\n      element.onload = on_load;\n      element.onerror = on_error;\n      element.rel = \"stylesheet\";\n      element.type = \"text/css\";\n      element.href = url;\n      console.debug(\"Bokeh: injecting link tag for BokehJS stylesheet: \", url);\n      document.body.appendChild(element);\n    }\n\n    const hashes = {\"https://cdn.bokeh.org/bokeh/release/bokeh-2.1.1.min.js\": \"kLr4fYcqcSpbuI95brIH3vnnYCquzzSxHPU6XGQCIkQRGJwhg0StNbj1eegrHs12\", \"https://cdn.bokeh.org/bokeh/release/bokeh-widgets-2.1.1.min.js\": \"xIGPmVtaOm+z0BqfSOMn4lOR6ciex448GIKG4eE61LsAvmGj48XcMQZtKcE/UXZe\", \"https://cdn.bokeh.org/bokeh/release/bokeh-tables-2.1.1.min.js\": \"Dc9u1wF/0zApGIWoBbH77iWEHtdmkuYWG839Uzmv8y8yBLXebjO9ZnERsde5Ln/P\", \"https://cdn.bokeh.org/bokeh/release/bokeh-gl-2.1.1.min.js\": \"cT9JaBz7GiRXdENrJLZNSC6eMNF3nh3fa5fTF51Svp+ukxPdwcU5kGXGPBgDCa2j\"};\n\n    for (var i = 0; i < js_urls.length; i++) {\n      var url = js_urls[i];\n      var element = document.createElement('script');\n      element.onload = on_load;\n      element.onerror = on_error;\n      element.async = false;\n      element.src = url;\n      if (url in hashes) {\n        element.crossOrigin = \"anonymous\";\n        element.integrity = \"sha384-\" + hashes[url];\n      }\n      console.debug(\"Bokeh: injecting script tag for BokehJS library: \", url);\n      document.head.appendChild(element);\n    }\n  };\n\n  function inject_raw_css(css) {\n    const element = document.createElement(\"style\");\n    element.appendChild(document.createTextNode(css));\n    document.body.appendChild(element);\n  }\n\n  \n  var js_urls = [\"https://cdn.bokeh.org/bokeh/release/bokeh-2.1.1.min.js\", \"https://cdn.bokeh.org/bokeh/release/bokeh-widgets-2.1.1.min.js\", \"https://cdn.bokeh.org/bokeh/release/bokeh-tables-2.1.1.min.js\", \"https://cdn.bokeh.org/bokeh/release/bokeh-gl-2.1.1.min.js\"];\n  var css_urls = [];\n  \n\n  var inline_js = [\n    function(Bokeh) {\n      Bokeh.set_log_level(\"info\");\n    },\n    function(Bokeh) {\n    \n    \n    }\n  ];\n\n  function run_inline_js() {\n    \n    if (root.Bokeh !== undefined || force === true) {\n      \n    for (var i = 0; i < inline_js.length; i++) {\n      inline_js[i].call(root, root.Bokeh);\n    }\n    if (force === true) {\n        display_loaded();\n      }} else if (Date.now() < root._bokeh_timeout) {\n      setTimeout(run_inline_js, 100);\n    } else if (!root._bokeh_failed_load) {\n      console.log(\"Bokeh: BokehJS failed to load within specified timeout.\");\n      root._bokeh_failed_load = true;\n    } else if (force !== true) {\n      var cell = $(document.getElementById(\"1001\")).parents('.cell').data().cell;\n      cell.output_area.append_execute_result(NB_LOAD_WARNING)\n    }\n\n  }\n\n  if (root._bokeh_is_loading === 0) {\n    console.debug(\"Bokeh: BokehJS loaded, going straight to plotting\");\n    run_inline_js();\n  } else {\n    load_libs(css_urls, js_urls, function() {\n      console.debug(\"Bokeh: BokehJS plotting callback run at\", now());\n      run_inline_js();\n    });\n  }\n}(window));"
     },
     "metadata": {},
     "output_type": "display_data"
    }
   ],
   "source": [
    "from pathlib import Path\n",
    "from sgkit_vcf import partition_into_regions, vcf_to_zarr\n",
    "\n",
    "from bokeh.io import output_notebook\n",
    "from dask.diagnostics import ResourceProfiler\n",
    "output_notebook()"
   ]
  },
  {
   "cell_type": "code",
   "execution_count": 2,
   "metadata": {},
   "outputs": [],
   "source": [
    "vcf_path = Path(\"data/ALL.chr22.phase3_shapeit2_mvncall_integrated_v5a.20130502.genotypes.vcf.gz\")\n",
    "output = vcf_path.name + \".zarr\""
   ]
  },
  {
   "cell_type": "code",
   "execution_count": 21,
   "metadata": {},
   "outputs": [],
   "source": [
    "!rm -rf {output}"
   ]
  },
  {
   "cell_type": "markdown",
   "metadata": {},
   "source": [
    "Split file into _N_ roughly equal parts. This uses the tabix linear index to find split points."
   ]
  },
  {
   "cell_type": "code",
   "execution_count": 22,
   "metadata": {},
   "outputs": [
    {
     "data": {
      "text/plain": [
       "['22:1-21168128',\n",
       " '22:21168129-25395200',\n",
       " '22:25395201-30064640',\n",
       " '22:30064641-34832384',\n",
       " '22:34832385-39305216',\n",
       " '22:39305217-44236800',\n",
       " '22:44236801-47890432',\n",
       " '22:47890433-']"
      ]
     },
     "execution_count": 22,
     "metadata": {},
     "output_type": "execute_result"
    }
   ],
   "source": [
    "regions = partition_into_regions(vcf_path, num_parts=8) # number of cores x2\n",
    "regions"
   ]
  },
  {
   "cell_type": "code",
   "execution_count": 23,
   "metadata": {},
   "outputs": [
    {
     "name": "stderr",
     "output_type": "stream",
     "text": [
      "/Users/tom/workspace/sgkit-vcf/venv/lib/python3.7/site-packages/xarray/conventions.py:188: SerializationWarning: variable None has data in the form of a dask array with dtype=object, which means it is being loaded into memory to determine a data type that can be safely stored on disk. To avoid this, coerce this variable to a fixed-size dtype with astype() before saving it.\n",
      "  SerializationWarning,\n",
      "/Users/tom/workspace/sgkit-vcf/venv/lib/python3.7/site-packages/xarray/conventions.py:188: SerializationWarning: variable None has data in the form of a dask array with dtype=object, which means it is being loaded into memory to determine a data type that can be safely stored on disk. To avoid this, coerce this variable to a fixed-size dtype with astype() before saving it.\n",
      "  SerializationWarning,\n"
     ]
    },
    {
     "name": "stdout",
     "output_type": "stream",
     "text": [
      "CPU times: user 17min 10s, sys: 1min 38s, total: 18min 48s\n",
      "Wall time: 4min 1s\n"
     ]
    }
   ],
   "source": [
    "%%time\n",
    "with ResourceProfiler() as prof:\n",
    "    vcf_to_zarr(vcf_path, output, regions=regions)"
   ]
  },
  {
   "cell_type": "code",
   "execution_count": 24,
   "metadata": {},
   "outputs": [
    {
     "data": {
      "text/html": [
       "\n",
       "\n",
       "\n",
       "\n",
       "\n",
       "\n",
       "  <div class=\"bk-root\" id=\"6ed719b3-634d-4061-86c5-5fedb878a1f1\" data-root-id=\"1452\"></div>\n"
      ]
     },
     "metadata": {},
     "output_type": "display_data"
    },
    {
     "data": {
      "application/javascript": [
       "(function(root) {\n",
       "  function embed_document(root) {\n",
       "    \n",
       "  var docs_json = {\"37a2664d-214b-43cb-ab16-2e4612cc097a\":{\"roots\":{\"references\":[{\"attributes\":{\"below\":[{\"id\":\"1463\"}],\"center\":[{\"id\":\"1466\"},{\"id\":\"1470\"},{\"id\":\"1492\"}],\"extra_y_ranges\":{\"memory\":{\"id\":\"1494\"}},\"left\":[{\"id\":\"1467\"}],\"plot_height\":300,\"plot_width\":800,\"renderers\":[{\"id\":\"1483\"},{\"id\":\"1498\"}],\"right\":[{\"id\":\"1510\"}],\"title\":{\"id\":\"1453\"},\"toolbar\":{\"id\":\"1475\"},\"toolbar_location\":\"above\",\"x_range\":{\"id\":\"1455\"},\"x_scale\":{\"id\":\"1459\"},\"y_range\":{\"id\":\"1457\"},\"y_scale\":{\"id\":\"1461\"}},\"id\":\"1452\",\"subtype\":\"Figure\",\"type\":\"Plot\"},{\"attributes\":{},\"id\":\"1549\",\"type\":\"BasicTickFormatter\"},{\"attributes\":{\"data_source\":{\"id\":\"1480\"},\"glyph\":{\"id\":\"1481\"},\"hover_glyph\":null,\"muted_glyph\":null,\"nonselection_glyph\":{\"id\":\"1482\"},\"selection_glyph\":null,\"view\":{\"id\":\"1484\"}},\"id\":\"1483\",\"type\":\"GlyphRenderer\"},{\"attributes\":{\"label\":{\"value\":\"Memory\"},\"renderers\":[{\"id\":\"1498\"}]},\"id\":\"1509\",\"type\":\"LegendItem\"},{\"attributes\":{},\"id\":\"1507\",\"type\":\"UnionRenderers\"},{\"attributes\":{},\"id\":\"1472\",\"type\":\"ResetTool\"},{\"attributes\":{\"line_alpha\":0.1,\"line_color\":\"#440154\",\"line_width\":4,\"x\":{\"field\":\"x\"},\"y\":{\"field\":\"y\"}},\"id\":\"1482\",\"type\":\"Line\"},{\"attributes\":{\"dimensions\":\"width\"},\"id\":\"1474\",\"type\":\"PanTool\"},{\"attributes\":{},\"id\":\"1550\",\"type\":\"BasicTicker\"},{\"attributes\":{\"axis_label\":\"Time (s)\",\"formatter\":{\"id\":\"1486\"},\"ticker\":{\"id\":\"1464\"}},\"id\":\"1463\",\"type\":\"LinearAxis\"},{\"attributes\":{\"end\":240.368073095},\"id\":\"1455\",\"type\":\"Range1d\"},{\"attributes\":{\"axis_label\":\"Memory (MB)\",\"formatter\":{\"id\":\"1549\"},\"ticker\":{\"id\":\"1550\"},\"y_range_name\":\"memory\"},\"id\":\"1510\",\"type\":\"LinearAxis\"},{\"attributes\":{},\"id\":\"1490\",\"type\":\"UnionRenderers\"},{\"attributes\":{},\"id\":\"1461\",\"type\":\"LinearScale\"},{\"attributes\":{\"axis\":{\"id\":\"1463\"},\"ticker\":null},\"id\":\"1466\",\"type\":\"Grid\"},{\"attributes\":{\"line_color\":\"#29788E\",\"line_width\":4,\"x\":{\"field\":\"x\"},\"y\":{\"field\":\"y\"}},\"id\":\"1496\",\"type\":\"Line\"},{\"attributes\":{},\"id\":\"1488\",\"type\":\"BasicTickFormatter\"},{\"attributes\":{\"active_drag\":\"auto\",\"active_inspect\":\"auto\",\"active_multi\":null,\"active_scroll\":\"auto\",\"active_tap\":\"auto\",\"tools\":[{\"id\":\"1471\"},{\"id\":\"1472\"},{\"id\":\"1473\"},{\"id\":\"1474\"}]},\"id\":\"1475\",\"type\":\"Toolbar\"},{\"attributes\":{\"data\":{\"x\":[0.0,1.0121004259999609,2.0126337079998393,3.0130931009998676,4.013364847000048,5.013682780999943,6.0141000319999876,7.0145081599998775,8.015314188000048,9.015937016999942,10.016442384999891,11.016900724999914,12.01846740499991,13.018886803999976,14.019282148999991,15.01974304800001,16.020080033999875,17.020516325000017,18.021000477999905,19.021402928000043,20.022187540000004,21.022688316999847,22.02305701499995,23.02434154299999,24.025253868999926,25.025584899000023,26.02664982400006,27.027081514999963,28.02734035000003,29.02768147500001,30.02794895099987,31.028627185000005,32.02903511999989,33.02946791699992,34.03001634199995,35.03049074399996,36.03098884999986,37.031710074999864,38.03301026700001,39.03432695099991,40.034871576999876,41.035330180999836,42.03615566600001,43.036731950999865,44.03727572699995,45.0376341839999,46.038343682999994,47.03869438799984,48.03901243999985,49.03936141600002,50.03972790299986,51.04089181899985,52.042183228999875,53.04267076499991,54.043365027999926,55.04430730399986,56.04474867499994,57.045569473999876,58.04603469299991,59.052368647999856,60.05291273600005,61.05389183800003,62.054424165,63.05545451399985,64.05614157299988,65.05747823299998,66.05783069599988,67.0583066879999,68.05964631799998,69.06079574899991,70.06145662799986,71.061866861,72.0621137999999,73.062382006,74.06264005399998,75.06288278199986,76.06416966899997,77.06463344300005,78.06594113999995,79.06624092599986,80.06656387499993,81.067860075,82.06916090999994,83.06995822599993,84.07126885899993,85.07197884899983,86.07244446000004,87.073232147,88.07451248200005,89.07499429199993,90.07629334399985,91.07725858799995,92.07875580599989,93.08008524399997,94.08067947899985,95.08198890499989,96.08279824800002,97.08320994899987,98.08458119600004,99.08520483899997,100.0856396659999,101.08627816199987,102.08717391699997,103.08752502399989,104.0890439509999,105.08949967199987,106.08977983,107.09006506699984,108.09030235299997,109.09159547199988,110.09186020599986,111.09299025399991,112.09430687700001,113.09483952000005,114.09524118499985,115.09561624599996,116.09634771399988,117.09684196700005,118.09734698199986,119.098145037,120.09860731200001,121.09996715399984,122.10057049399984,123.10114467199992,124.101588386,125.10292161899997,126.10349356400002,127.10485689100005,128.1053775129999,129.10609906700006,130.10713189900002,131.10813310899994,132.10883462699985,133.10951115099988,134.11076636100006,135.11177736399986,136.11243133799985,137.11326580599984,138.11454216699985,139.1151978549999,140.11639343499996,141.11773115699998,142.11796181599993,143.1188646799999,144.11915337000005,145.11959560900004,146.1204389469999,147.12106608699992,148.12130849100004,149.12159733099998,150.12216640399993,151.12249552000003,152.12380968899993,153.12450786599993,154.1248289,155.12613227299994,156.1265853499999,157.1269882439999,158.127428839,159.12873262099993,160.12952724599995,161.13003533999995,162.13051305599993,163.13111065199996,164.13140692899992,165.13203067899985,166.13266571999998,167.13398727799995,168.134810883,169.1351486829999,170.13571214600006,171.13625722200004,172.13749925899992,173.13798624900005,174.13835793499993,175.13865263899993,176.13899881399993,177.140309463,178.14161283999988,179.14289221599984,180.14319275699995,181.14429980599994,182.1446757839999,183.14496023799984,184.14634871999988,185.14677145299993,186.1470238469999,187.148265497,188.14942880499984,189.14980017899984,190.2917172729999,191.30235054599984,192.31452986,193.31494471999986,194.31630970599986,195.31763971700002,196.31898354600003,197.3203042109999,198.32093812199992,199.32219329099985,200.3234928899999,201.32406713199998,202.32443025399994,203.32580047800002,204.3265456669999,205.32721398399985,206.32861694500002,207.33022707199984,208.33169030699992,209.33270654600005,210.334030794,211.335405153,212.3367695269999,213.33813587300006,214.33850089099997,215.33988878499986,216.34119216599993,217.34246254799996,218.34324951200006,219.34437871399996,220.345115931,221.34637270400003,222.34770673599996,223.349065893,224.35035965899988,225.35157943199988,226.35289874499995,227.35425194899994,228.35507859899985,229.3563892699999,230.35772941999994,231.35846451499992,232.359844221,233.36080433100005,234.36182541899984,235.36322457000006,236.3645703699999,237.3650846579999,238.36546807199989,239.36674644799996,240.368073095],\"y\":[0.0,388.2,411.5,376.7,413.1,407.9,411.1,403.7,405.1,408.2,371.3,339.1,238.0,333.1,367.2,347.9,358.0,403.3,395.6,380.6,366.8,368.1,402.9,354.3,573.2,584.5,536.7,522.0,361.8,404.4,416.2,383.9,419.6,427.3,385.8,395.0,410.4,375.4,658.5,711.6,644.4,412.7,394.6,364.7,392.3,402.7,379.5,384.9,399.7,402.5,359.4,377.8,487.3,651.0,630.7,643.4,368.7,399.6,400.6,409.0,397.3,366.0,384.0,429.8,455.7,395.5,421.0,388.7,658.1,658.4,531.2,329.5,381.0,371.8,389.8,397.8,464.0,490.6,460.0,484.8,351.9,330.2,395.8,559.3,628.6,557.6,324.1,396.5,402.8,465.6,447.2,354.1,550.1,428.3,385.0,424.1,357.0,585.9,651.5,580.0,352.6,330.4,356.7,453.0,405.0,441.9,345.9,373.7,397.8,413.5,467.5,503.1,614.6,622.8,438.1,488.9,352.8,473.0,414.6,385.0,382.0,408.9,381.1,457.0,424.6,526.4,665.5,502.8,383.4,429.1,497.4,363.2,380.0,397.2,380.3,414.2,488.0,414.0,452.2,604.9,608.8,477.8,355.6,455.1,346.6,399.3,411.2,395.7,434.4,490.9,414.5,423.3,551.3,617.9,521.6,530.6,450.5,389.8,401.2,405.40000000000003,378.3,423.4,402.2,375.9,430.7,488.4,599.3,573.3,538.4,367.2,371.8,379.4,475.4,360.2,378.0,379.1,396.0,466.4,550.4,549.3,380.8,340.7,326.0,268.8,255.4,197.7,188.8,129.1,98.7,99.5,105.8,114.5,503.2,668.5,654.1,709.8,688.9,680.5,676.1,701.5,694.8,686.4,678.3,672.1,673.3,711.1,700.7,651.9,674.5,692.9,650.8,663.8,696.3,710.3,666.1,694.9,704.6,584.6,304.7,326.5,327.0,535.3,523.2,679.7,636.6,613.5,634.1,648.3,691.3,674.1,683.6,685.4,684.2,675.4,647.1,678.4,654.7,658.5,686.9,679.6,649.3]},\"selected\":{\"id\":\"1491\"},\"selection_policy\":{\"id\":\"1490\"}},\"id\":\"1480\",\"type\":\"ColumnDataSource\"},{\"attributes\":{\"text\":\"Profile Results\"},\"id\":\"1453\",\"type\":\"Title\"},{\"attributes\":{},\"id\":\"1486\",\"type\":\"BasicTickFormatter\"},{\"attributes\":{\"label\":{\"value\":\"% CPU\"},\"renderers\":[{\"id\":\"1483\"}]},\"id\":\"1493\",\"type\":\"LegendItem\"},{\"attributes\":{},\"id\":\"1491\",\"type\":\"Selection\"},{\"attributes\":{\"source\":{\"id\":\"1480\"}},\"id\":\"1484\",\"type\":\"CDSView\"},{\"attributes\":{\"axis\":{\"id\":\"1467\"},\"dimension\":1,\"ticker\":null},\"id\":\"1470\",\"type\":\"Grid\"},{\"attributes\":{\"end\":711.6},\"id\":\"1457\",\"type\":\"Range1d\"},{\"attributes\":{\"data_source\":{\"id\":\"1495\"},\"glyph\":{\"id\":\"1496\"},\"hover_glyph\":null,\"muted_glyph\":null,\"nonselection_glyph\":{\"id\":\"1497\"},\"selection_glyph\":null,\"view\":{\"id\":\"1499\"},\"y_range_name\":\"memory\"},\"id\":\"1498\",\"type\":\"GlyphRenderer\"},{\"attributes\":{},\"id\":\"1471\",\"type\":\"SaveTool\"},{\"attributes\":{\"source\":{\"id\":\"1495\"}},\"id\":\"1499\",\"type\":\"CDSView\"},{\"attributes\":{\"end\":2884.100096,\"start\":269.881344},\"id\":\"1494\",\"type\":\"Range1d\"},{\"attributes\":{\"items\":[{\"id\":\"1493\"},{\"id\":\"1509\"}]},\"id\":\"1492\",\"type\":\"Legend\"},{\"attributes\":{},\"id\":\"1459\",\"type\":\"LinearScale\"},{\"attributes\":{\"data\":{\"x\":[0.0,1.0121004259999609,2.0126337079998393,3.0130931009998676,4.013364847000048,5.013682780999943,6.0141000319999876,7.0145081599998775,8.015314188000048,9.015937016999942,10.016442384999891,11.016900724999914,12.01846740499991,13.018886803999976,14.019282148999991,15.01974304800001,16.020080033999875,17.020516325000017,18.021000477999905,19.021402928000043,20.022187540000004,21.022688316999847,22.02305701499995,23.02434154299999,24.025253868999926,25.025584899000023,26.02664982400006,27.027081514999963,28.02734035000003,29.02768147500001,30.02794895099987,31.028627185000005,32.02903511999989,33.02946791699992,34.03001634199995,35.03049074399996,36.03098884999986,37.031710074999864,38.03301026700001,39.03432695099991,40.034871576999876,41.035330180999836,42.03615566600001,43.036731950999865,44.03727572699995,45.0376341839999,46.038343682999994,47.03869438799984,48.03901243999985,49.03936141600002,50.03972790299986,51.04089181899985,52.042183228999875,53.04267076499991,54.043365027999926,55.04430730399986,56.04474867499994,57.045569473999876,58.04603469299991,59.052368647999856,60.05291273600005,61.05389183800003,62.054424165,63.05545451399985,64.05614157299988,65.05747823299998,66.05783069599988,67.0583066879999,68.05964631799998,69.06079574899991,70.06145662799986,71.061866861,72.0621137999999,73.062382006,74.06264005399998,75.06288278199986,76.06416966899997,77.06463344300005,78.06594113999995,79.06624092599986,80.06656387499993,81.067860075,82.06916090999994,83.06995822599993,84.07126885899993,85.07197884899983,86.07244446000004,87.073232147,88.07451248200005,89.07499429199993,90.07629334399985,91.07725858799995,92.07875580599989,93.08008524399997,94.08067947899985,95.08198890499989,96.08279824800002,97.08320994899987,98.08458119600004,99.08520483899997,100.0856396659999,101.08627816199987,102.08717391699997,103.08752502399989,104.0890439509999,105.08949967199987,106.08977983,107.09006506699984,108.09030235299997,109.09159547199988,110.09186020599986,111.09299025399991,112.09430687700001,113.09483952000005,114.09524118499985,115.09561624599996,116.09634771399988,117.09684196700005,118.09734698199986,119.098145037,120.09860731200001,121.09996715399984,122.10057049399984,123.10114467199992,124.101588386,125.10292161899997,126.10349356400002,127.10485689100005,128.1053775129999,129.10609906700006,130.10713189900002,131.10813310899994,132.10883462699985,133.10951115099988,134.11076636100006,135.11177736399986,136.11243133799985,137.11326580599984,138.11454216699985,139.1151978549999,140.11639343499996,141.11773115699998,142.11796181599993,143.1188646799999,144.11915337000005,145.11959560900004,146.1204389469999,147.12106608699992,148.12130849100004,149.12159733099998,150.12216640399993,151.12249552000003,152.12380968899993,153.12450786599993,154.1248289,155.12613227299994,156.1265853499999,157.1269882439999,158.127428839,159.12873262099993,160.12952724599995,161.13003533999995,162.13051305599993,163.13111065199996,164.13140692899992,165.13203067899985,166.13266571999998,167.13398727799995,168.134810883,169.1351486829999,170.13571214600006,171.13625722200004,172.13749925899992,173.13798624900005,174.13835793499993,175.13865263899993,176.13899881399993,177.140309463,178.14161283999988,179.14289221599984,180.14319275699995,181.14429980599994,182.1446757839999,183.14496023799984,184.14634871999988,185.14677145299993,186.1470238469999,187.148265497,188.14942880499984,189.14980017899984,190.2917172729999,191.30235054599984,192.31452986,193.31494471999986,194.31630970599986,195.31763971700002,196.31898354600003,197.3203042109999,198.32093812199992,199.32219329099985,200.3234928899999,201.32406713199998,202.32443025399994,203.32580047800002,204.3265456669999,205.32721398399985,206.32861694500002,207.33022707199984,208.33169030699992,209.33270654600005,210.334030794,211.335405153,212.3367695269999,213.33813587300006,214.33850089099997,215.33988878499986,216.34119216599993,217.34246254799996,218.34324951200006,219.34437871399996,220.345115931,221.34637270400003,222.34770673599996,223.349065893,224.35035965899988,225.35157943199988,226.35289874499995,227.35425194899994,228.35507859899985,229.3563892699999,230.35772941999994,231.35846451499992,232.359844221,233.36080433100005,234.36182541899984,235.36322457000006,236.3645703699999,237.3650846579999,238.36546807199989,239.36674644799996,240.368073095],\"y\":[484.773888,525.152256,562.274304,595.443712,631.808,667.529216,703.97952,740.573184,776.921088,813.85472,845.180928,1237.704704,1690.165248,1468.465152,1473.871872,1473.871872,1481.334784,1481.342976,1481.506816,1481.674752,1481.764864,1481.990144,1484.06272,1557.25824,1930.645504,2231.734272,2665.037824,1660.157952,1559.494656,1559.494656,1559.494656,1559.498752,1559.498752,1559.498752,1559.498752,1559.502848,1559.535616,1642.868736,2037.665792,2390.888448,2081.865728,1586.741248,1586.741248,1586.745344,1586.745344,1586.745344,1586.745344,1586.74944,1586.7904,1586.83136,1587.634176,1685.200896,1835.237376,2080.01024,2275.680256,2205.77792,1513.725952,1513.730048,1513.730048,1513.762816,1513.762816,1513.762816,1513.762816,1568.17408,1613.930496,1613.643776,1687.69536,1725.60384,1898.88512,2121.191424,1764.687872,1513.955328,1513.955328,1513.955328,1513.955328,1513.959424,1578.565632,1614.127104,1640.415232,1714.290688,1661.902848,1661.902848,1729.114112,1871.089664,2100.30592,2260.856832,1487.58528,1487.58528,1487.58528,1563.009024,1587.75296,1585.8688,1671.081984,1688.973312,1638.567936,1638.567936,1638.596608,1763.700736,1941.471232,2029.330432,1539.309568,1539.309568,1630.896128,1639.48544,1591.0912,1689.567232,1685.692416,1685.692416,1685.692416,1685.696512,1685.696512,1713.205248,1840.914432,1990.0416,1578.954752,1661.35808,1611.276288,1659.670528,1711.439872,1661.35808,1661.35808,1661.35808,1661.35808,1661.35808,1661.35808,1705.230336,1837.596672,1962.520576,1661.70624,1561.546752,1627.488256,1663.410176,1562.923008,1562.927104,1562.927104,1562.927104,1562.927104,1562.927104,1594.896384,1778.36032,1914.4704,1862.365184,1661.714432,1756.61056,1562.652672,1562.652672,1562.652672,1562.656768,1562.66496,1562.66496,1562.66496,1562.70592,1670.750208,1823.297536,2043.015168,1764.077568,1663.913984,1563.254784,1563.254784,1563.25888,1563.25888,1563.25888,1563.25888,1563.262976,1563.262976,1621.069824,1802.747904,2000.531456,1762.32448,1661.517824,1661.517824,1561.362432,1561.362432,1411.059712,1217.785856,1217.785856,1244.233728,1381.80608,1565.659136,1694.482432,1181.667328,925.089792,850.067456,874.733568,897.294336,959.361024,768.65536,575.315968,583.184384,666.492928,269.881344,309.579776,1814.03648,2306.412544,2763.239424,2884.100096,2837.942272,2837.946368,2787.651584,2788.786176,2788.786176,2788.786176,2789.92896,2739.634176,2689.57696,2689.57696,2664.054784,2664.054784,2662.916096,2662.916096,2662.916096,2662.916096,2662.916096,2662.916096,2662.920192,2650.677248,2650.677248,2121.396224,1301.868544,1257.975808,901.578752,1266.348032,1024.45056,1384.013824,1189.298176,1175.764992,1284.763648,1134.739456,1166.491648,1185.574912,1198.268416,1242.230784,1242.230784,1185.861632,1185.865728,1166.19264,1501.3888,1811.61984,1811.034112,1761.165312,1024.98304]},\"selected\":{\"id\":\"1508\"},\"selection_policy\":{\"id\":\"1507\"}},\"id\":\"1495\",\"type\":\"ColumnDataSource\"},{\"attributes\":{},\"id\":\"1464\",\"type\":\"BasicTicker\"},{\"attributes\":{\"dimensions\":\"width\"},\"id\":\"1473\",\"type\":\"WheelZoomTool\"},{\"attributes\":{\"line_color\":\"#440154\",\"line_width\":4,\"x\":{\"field\":\"x\"},\"y\":{\"field\":\"y\"}},\"id\":\"1481\",\"type\":\"Line\"},{\"attributes\":{\"line_alpha\":0.1,\"line_color\":\"#29788E\",\"line_width\":4,\"x\":{\"field\":\"x\"},\"y\":{\"field\":\"y\"}},\"id\":\"1497\",\"type\":\"Line\"},{\"attributes\":{},\"id\":\"1468\",\"type\":\"BasicTicker\"},{\"attributes\":{},\"id\":\"1508\",\"type\":\"Selection\"},{\"attributes\":{\"axis_label\":\"% CPU\",\"formatter\":{\"id\":\"1488\"},\"ticker\":{\"id\":\"1468\"}},\"id\":\"1467\",\"type\":\"LinearAxis\"}],\"root_ids\":[\"1452\"]},\"title\":\"Bokeh Application\",\"version\":\"2.1.1\"}};\n",
       "  var render_items = [{\"docid\":\"37a2664d-214b-43cb-ab16-2e4612cc097a\",\"root_ids\":[\"1452\"],\"roots\":{\"1452\":\"6ed719b3-634d-4061-86c5-5fedb878a1f1\"}}];\n",
       "  root.Bokeh.embed.embed_items_notebook(docs_json, render_items);\n",
       "\n",
       "  }\n",
       "  if (root.Bokeh !== undefined) {\n",
       "    embed_document(root);\n",
       "  } else {\n",
       "    var attempts = 0;\n",
       "    var timer = setInterval(function(root) {\n",
       "      if (root.Bokeh !== undefined) {\n",
       "        clearInterval(timer);\n",
       "        embed_document(root);\n",
       "      } else {\n",
       "        attempts++;\n",
       "        if (attempts > 100) {\n",
       "          clearInterval(timer);\n",
       "          console.log(\"Bokeh: ERROR: Unable to run BokehJS code because BokehJS library is missing\");\n",
       "        }\n",
       "      }\n",
       "    }, 10, root)\n",
       "  }\n",
       "})(window);"
      ],
      "application/vnd.bokehjs_exec.v0+json": ""
     },
     "metadata": {
      "application/vnd.bokehjs_exec.v0+json": {
       "id": "1452"
      }
     },
     "output_type": "display_data"
    },
    {
     "data": {
      "text/html": [
       "<div style=\"display: table;\"><div style=\"display: table-row;\"><div style=\"display: table-cell;\"><b title=\"bokeh.plotting.figure.Figure\">Figure</b>(</div><div style=\"display: table-cell;\">id&nbsp;=&nbsp;'1452', <span id=\"1622\" style=\"cursor: pointer;\">&hellip;)</span></div></div><div class=\"1621\" style=\"display: none;\"><div style=\"display: table-cell;\"></div><div style=\"display: table-cell;\">above&nbsp;=&nbsp;[],</div></div><div class=\"1621\" style=\"display: none;\"><div style=\"display: table-cell;\"></div><div style=\"display: table-cell;\">align&nbsp;=&nbsp;'start',</div></div><div class=\"1621\" style=\"display: none;\"><div style=\"display: table-cell;\"></div><div style=\"display: table-cell;\">aspect_ratio&nbsp;=&nbsp;None,</div></div><div class=\"1621\" style=\"display: none;\"><div style=\"display: table-cell;\"></div><div style=\"display: table-cell;\">aspect_scale&nbsp;=&nbsp;1,</div></div><div class=\"1621\" style=\"display: none;\"><div style=\"display: table-cell;\"></div><div style=\"display: table-cell;\">background&nbsp;=&nbsp;None,</div></div><div class=\"1621\" style=\"display: none;\"><div style=\"display: table-cell;\"></div><div style=\"display: table-cell;\">background_fill_alpha&nbsp;=&nbsp;1.0,</div></div><div class=\"1621\" style=\"display: none;\"><div style=\"display: table-cell;\"></div><div style=\"display: table-cell;\">background_fill_color&nbsp;=&nbsp;'#ffffff',</div></div><div class=\"1621\" style=\"display: none;\"><div style=\"display: table-cell;\"></div><div style=\"display: table-cell;\">below&nbsp;=&nbsp;[LinearAxis(id='1463', ...)],</div></div><div class=\"1621\" style=\"display: none;\"><div style=\"display: table-cell;\"></div><div style=\"display: table-cell;\">border_fill_alpha&nbsp;=&nbsp;1.0,</div></div><div class=\"1621\" style=\"display: none;\"><div style=\"display: table-cell;\"></div><div style=\"display: table-cell;\">border_fill_color&nbsp;=&nbsp;'#ffffff',</div></div><div class=\"1621\" style=\"display: none;\"><div style=\"display: table-cell;\"></div><div style=\"display: table-cell;\">center&nbsp;=&nbsp;[Grid(id='1466', ...), Grid(id='1470', ...), Legend(id='1492', ...)],</div></div><div class=\"1621\" style=\"display: none;\"><div style=\"display: table-cell;\"></div><div style=\"display: table-cell;\">css_classes&nbsp;=&nbsp;[],</div></div><div class=\"1621\" style=\"display: none;\"><div style=\"display: table-cell;\"></div><div style=\"display: table-cell;\">disabled&nbsp;=&nbsp;False,</div></div><div class=\"1621\" style=\"display: none;\"><div style=\"display: table-cell;\"></div><div style=\"display: table-cell;\">extra_x_ranges&nbsp;=&nbsp;{},</div></div><div class=\"1621\" style=\"display: none;\"><div style=\"display: table-cell;\"></div><div style=\"display: table-cell;\">extra_y_ranges&nbsp;=&nbsp;{'memory': Range1d(id='1494', ...)},</div></div><div class=\"1621\" style=\"display: none;\"><div style=\"display: table-cell;\"></div><div style=\"display: table-cell;\">frame_height&nbsp;=&nbsp;None,</div></div><div class=\"1621\" style=\"display: none;\"><div style=\"display: table-cell;\"></div><div style=\"display: table-cell;\">frame_width&nbsp;=&nbsp;None,</div></div><div class=\"1621\" style=\"display: none;\"><div style=\"display: table-cell;\"></div><div style=\"display: table-cell;\">height&nbsp;=&nbsp;None,</div></div><div class=\"1621\" style=\"display: none;\"><div style=\"display: table-cell;\"></div><div style=\"display: table-cell;\">height_policy&nbsp;=&nbsp;'auto',</div></div><div class=\"1621\" style=\"display: none;\"><div style=\"display: table-cell;\"></div><div style=\"display: table-cell;\">hidpi&nbsp;=&nbsp;True,</div></div><div class=\"1621\" style=\"display: none;\"><div style=\"display: table-cell;\"></div><div style=\"display: table-cell;\">js_event_callbacks&nbsp;=&nbsp;{},</div></div><div class=\"1621\" style=\"display: none;\"><div style=\"display: table-cell;\"></div><div style=\"display: table-cell;\">js_property_callbacks&nbsp;=&nbsp;{},</div></div><div class=\"1621\" style=\"display: none;\"><div style=\"display: table-cell;\"></div><div style=\"display: table-cell;\">left&nbsp;=&nbsp;[LinearAxis(id='1467', ...)],</div></div><div class=\"1621\" style=\"display: none;\"><div style=\"display: table-cell;\"></div><div style=\"display: table-cell;\">lod_factor&nbsp;=&nbsp;10,</div></div><div class=\"1621\" style=\"display: none;\"><div style=\"display: table-cell;\"></div><div style=\"display: table-cell;\">lod_interval&nbsp;=&nbsp;300,</div></div><div class=\"1621\" style=\"display: none;\"><div style=\"display: table-cell;\"></div><div style=\"display: table-cell;\">lod_threshold&nbsp;=&nbsp;2000,</div></div><div class=\"1621\" style=\"display: none;\"><div style=\"display: table-cell;\"></div><div style=\"display: table-cell;\">lod_timeout&nbsp;=&nbsp;500,</div></div><div class=\"1621\" style=\"display: none;\"><div style=\"display: table-cell;\"></div><div style=\"display: table-cell;\">margin&nbsp;=&nbsp;(0, 0, 0, 0),</div></div><div class=\"1621\" style=\"display: none;\"><div style=\"display: table-cell;\"></div><div style=\"display: table-cell;\">match_aspect&nbsp;=&nbsp;False,</div></div><div class=\"1621\" style=\"display: none;\"><div style=\"display: table-cell;\"></div><div style=\"display: table-cell;\">max_height&nbsp;=&nbsp;None,</div></div><div class=\"1621\" style=\"display: none;\"><div style=\"display: table-cell;\"></div><div style=\"display: table-cell;\">max_width&nbsp;=&nbsp;None,</div></div><div class=\"1621\" style=\"display: none;\"><div style=\"display: table-cell;\"></div><div style=\"display: table-cell;\">min_border&nbsp;=&nbsp;5,</div></div><div class=\"1621\" style=\"display: none;\"><div style=\"display: table-cell;\"></div><div style=\"display: table-cell;\">min_border_bottom&nbsp;=&nbsp;None,</div></div><div class=\"1621\" style=\"display: none;\"><div style=\"display: table-cell;\"></div><div style=\"display: table-cell;\">min_border_left&nbsp;=&nbsp;None,</div></div><div class=\"1621\" style=\"display: none;\"><div style=\"display: table-cell;\"></div><div style=\"display: table-cell;\">min_border_right&nbsp;=&nbsp;None,</div></div><div class=\"1621\" style=\"display: none;\"><div style=\"display: table-cell;\"></div><div style=\"display: table-cell;\">min_border_top&nbsp;=&nbsp;None,</div></div><div class=\"1621\" style=\"display: none;\"><div style=\"display: table-cell;\"></div><div style=\"display: table-cell;\">min_height&nbsp;=&nbsp;None,</div></div><div class=\"1621\" style=\"display: none;\"><div style=\"display: table-cell;\"></div><div style=\"display: table-cell;\">min_width&nbsp;=&nbsp;None,</div></div><div class=\"1621\" style=\"display: none;\"><div style=\"display: table-cell;\"></div><div style=\"display: table-cell;\">name&nbsp;=&nbsp;None,</div></div><div class=\"1621\" style=\"display: none;\"><div style=\"display: table-cell;\"></div><div style=\"display: table-cell;\">outline_line_alpha&nbsp;=&nbsp;1.0,</div></div><div class=\"1621\" style=\"display: none;\"><div style=\"display: table-cell;\"></div><div style=\"display: table-cell;\">outline_line_cap&nbsp;=&nbsp;'butt',</div></div><div class=\"1621\" style=\"display: none;\"><div style=\"display: table-cell;\"></div><div style=\"display: table-cell;\">outline_line_color&nbsp;=&nbsp;'#e5e5e5',</div></div><div class=\"1621\" style=\"display: none;\"><div style=\"display: table-cell;\"></div><div style=\"display: table-cell;\">outline_line_dash&nbsp;=&nbsp;[],</div></div><div class=\"1621\" style=\"display: none;\"><div style=\"display: table-cell;\"></div><div style=\"display: table-cell;\">outline_line_dash_offset&nbsp;=&nbsp;0,</div></div><div class=\"1621\" style=\"display: none;\"><div style=\"display: table-cell;\"></div><div style=\"display: table-cell;\">outline_line_join&nbsp;=&nbsp;'bevel',</div></div><div class=\"1621\" style=\"display: none;\"><div style=\"display: table-cell;\"></div><div style=\"display: table-cell;\">outline_line_width&nbsp;=&nbsp;1,</div></div><div class=\"1621\" style=\"display: none;\"><div style=\"display: table-cell;\"></div><div style=\"display: table-cell;\">output_backend&nbsp;=&nbsp;'canvas',</div></div><div class=\"1621\" style=\"display: none;\"><div style=\"display: table-cell;\"></div><div style=\"display: table-cell;\">plot_height&nbsp;=&nbsp;300,</div></div><div class=\"1621\" style=\"display: none;\"><div style=\"display: table-cell;\"></div><div style=\"display: table-cell;\">plot_width&nbsp;=&nbsp;800,</div></div><div class=\"1621\" style=\"display: none;\"><div style=\"display: table-cell;\"></div><div style=\"display: table-cell;\">renderers&nbsp;=&nbsp;[GlyphRenderer(id='1483', ...), GlyphRenderer(id='1498', ...)],</div></div><div class=\"1621\" style=\"display: none;\"><div style=\"display: table-cell;\"></div><div style=\"display: table-cell;\">reset_policy&nbsp;=&nbsp;'standard',</div></div><div class=\"1621\" style=\"display: none;\"><div style=\"display: table-cell;\"></div><div style=\"display: table-cell;\">right&nbsp;=&nbsp;[LinearAxis(id='1510', ...)],</div></div><div class=\"1621\" style=\"display: none;\"><div style=\"display: table-cell;\"></div><div style=\"display: table-cell;\">sizing_mode&nbsp;=&nbsp;None,</div></div><div class=\"1621\" style=\"display: none;\"><div style=\"display: table-cell;\"></div><div style=\"display: table-cell;\">subscribed_events&nbsp;=&nbsp;[],</div></div><div class=\"1621\" style=\"display: none;\"><div style=\"display: table-cell;\"></div><div style=\"display: table-cell;\">tags&nbsp;=&nbsp;[],</div></div><div class=\"1621\" style=\"display: none;\"><div style=\"display: table-cell;\"></div><div style=\"display: table-cell;\">title&nbsp;=&nbsp;Title(id='1453', ...),</div></div><div class=\"1621\" style=\"display: none;\"><div style=\"display: table-cell;\"></div><div style=\"display: table-cell;\">title_location&nbsp;=&nbsp;'above',</div></div><div class=\"1621\" style=\"display: none;\"><div style=\"display: table-cell;\"></div><div style=\"display: table-cell;\">toolbar&nbsp;=&nbsp;Toolbar(id='1475', ...),</div></div><div class=\"1621\" style=\"display: none;\"><div style=\"display: table-cell;\"></div><div style=\"display: table-cell;\">toolbar_location&nbsp;=&nbsp;'above',</div></div><div class=\"1621\" style=\"display: none;\"><div style=\"display: table-cell;\"></div><div style=\"display: table-cell;\">toolbar_sticky&nbsp;=&nbsp;True,</div></div><div class=\"1621\" style=\"display: none;\"><div style=\"display: table-cell;\"></div><div style=\"display: table-cell;\">visible&nbsp;=&nbsp;True,</div></div><div class=\"1621\" style=\"display: none;\"><div style=\"display: table-cell;\"></div><div style=\"display: table-cell;\">width&nbsp;=&nbsp;None,</div></div><div class=\"1621\" style=\"display: none;\"><div style=\"display: table-cell;\"></div><div style=\"display: table-cell;\">width_policy&nbsp;=&nbsp;'auto',</div></div><div class=\"1621\" style=\"display: none;\"><div style=\"display: table-cell;\"></div><div style=\"display: table-cell;\">x_range&nbsp;=&nbsp;Range1d(id='1455', ...),</div></div><div class=\"1621\" style=\"display: none;\"><div style=\"display: table-cell;\"></div><div style=\"display: table-cell;\">x_scale&nbsp;=&nbsp;LinearScale(id='1459', ...),</div></div><div class=\"1621\" style=\"display: none;\"><div style=\"display: table-cell;\"></div><div style=\"display: table-cell;\">y_range&nbsp;=&nbsp;Range1d(id='1457', ...),</div></div><div class=\"1621\" style=\"display: none;\"><div style=\"display: table-cell;\"></div><div style=\"display: table-cell;\">y_scale&nbsp;=&nbsp;LinearScale(id='1461', ...))</div></div></div>\n",
       "<script>\n",
       "(function() {\n",
       "  var expanded = false;\n",
       "  var ellipsis = document.getElementById(\"1622\");\n",
       "  ellipsis.addEventListener(\"click\", function() {\n",
       "    var rows = document.getElementsByClassName(\"1621\");\n",
       "    for (var i = 0; i < rows.length; i++) {\n",
       "      var el = rows[i];\n",
       "      el.style.display = expanded ? \"none\" : \"table-row\";\n",
       "    }\n",
       "    ellipsis.innerHTML = expanded ? \"&hellip;)\" : \"&lsaquo;&lsaquo;&lsaquo;\";\n",
       "    expanded = !expanded;\n",
       "  });\n",
       "})();\n",
       "</script>\n"
      ],
      "text/plain": [
       "Figure(id='1452', ...)"
      ]
     },
     "execution_count": 24,
     "metadata": {},
     "output_type": "execute_result"
    }
   ],
   "source": [
    "prof.visualize()"
   ]
  },
  {
   "cell_type": "markdown",
   "metadata": {},
   "source": [
    "### Run sequentially\n",
    "By not specifying regions."
   ]
  },
  {
   "cell_type": "code",
   "execution_count": 17,
   "metadata": {},
   "outputs": [],
   "source": [
    "!rm -rf {output}"
   ]
  },
  {
   "cell_type": "code",
   "execution_count": 18,
   "metadata": {},
   "outputs": [
    {
     "name": "stdout",
     "output_type": "stream",
     "text": [
      "CPU times: user 7min 56s, sys: 11.5 s, total: 8min 8s\n",
      "Wall time: 8min 5s\n"
     ]
    }
   ],
   "source": [
    "%%time\n",
    "with ResourceProfiler() as prof:\n",
    "    vcf_to_zarr(vcf_path, output)"
   ]
  },
  {
   "cell_type": "code",
   "execution_count": 19,
   "metadata": {},
   "outputs": [
    {
     "data": {
      "text/html": [
       "\n",
       "\n",
       "\n",
       "\n",
       "\n",
       "\n",
       "  <div class=\"bk-root\" id=\"c075bc75-1f5f-4eee-81bd-46849ad0aa09\" data-root-id=\"1291\"></div>\n"
      ]
     },
     "metadata": {},
     "output_type": "display_data"
    },
    {
     "data": {
      "application/javascript": [
       "(function(root) {\n",
       "  function embed_document(root) {\n",
       "    \n",
       "  var docs_json = {\"cf62779e-f001-4286-bf2f-3cd656af9143\":{\"roots\":{\"references\":[{\"attributes\":{\"below\":[{\"id\":\"1302\"}],\"center\":[{\"id\":\"1305\"},{\"id\":\"1309\"},{\"id\":\"1331\"}],\"extra_y_ranges\":{\"memory\":{\"id\":\"1333\"}},\"left\":[{\"id\":\"1306\"}],\"plot_height\":300,\"plot_width\":800,\"renderers\":[{\"id\":\"1322\"},{\"id\":\"1337\"}],\"right\":[{\"id\":\"1349\"}],\"title\":{\"id\":\"1292\"},\"toolbar\":{\"id\":\"1314\"},\"toolbar_location\":\"above\",\"x_range\":{\"id\":\"1294\"},\"x_scale\":{\"id\":\"1298\"},\"y_range\":{\"id\":\"1296\"},\"y_scale\":{\"id\":\"1300\"}},\"id\":\"1291\",\"subtype\":\"Figure\",\"type\":\"Plot\"},{\"attributes\":{\"label\":{\"value\":\"Memory\"},\"renderers\":[{\"id\":\"1337\"}]},\"id\":\"1348\",\"type\":\"LegendItem\"},{\"attributes\":{},\"id\":\"1303\",\"type\":\"BasicTicker\"},{\"attributes\":{},\"id\":\"1347\",\"type\":\"Selection\"},{\"attributes\":{},\"id\":\"1377\",\"type\":\"BasicTickFormatter\"},{\"attributes\":{\"axis\":{\"id\":\"1306\"},\"dimension\":1,\"ticker\":null},\"id\":\"1309\",\"type\":\"Grid\"},{\"attributes\":{\"data\":{\"x\":[0.0,1.002475226000115,2.0038078439999936,3.005066437000096,4.0063570170000276,5.007514153000102,6.0086671859999115,7.009724662000053,8.010486232999938,9.011772723999911,10.013020558000107,11.014075001000037,12.015347435999956,13.01560307900013,14.016493982999918,15.017749916999946,16.019021259000056,17.019577861000016,18.020850419,19.02211414599992,20.023365775000002,21.02434064299996,22.02481650300001,23.02520583599994,24.026489731000083,25.027534843000012,26.027820122000094,27.02847014500003,28.029850616999965,29.03112089000001,30.032274299999926,31.032748614999946,32.03302342000006,33.03445364799995,34.035070398000016,35.035835502000054,36.03668378800012,37.037896334999914,38.03901629000006,39.03952876700009,40.040608654999915,41.04141903300001,42.041776977999916,43.04217048800001,44.043343836000076,45.04435942300006,46.04557426800011,47.046767330999955,48.04735092100009,49.048056423999924,50.048516111000026,51.04914726800007,52.04946742099992,53.050076423000064,54.05099066799994,55.05204813599994,56.05304324400004,57.05378912800006,58.05475999700002,59.05601851799997,60.05730680400006,61.05806735100009,62.05935142199996,63.059735304000014,64.06091797800013,65.06174148200012,66.06225509399997,67.06277655500003,68.06357631100013,69.06414542099992,70.06487768700003,71.06583083400005,72.06710587800012,73.06806564299995,74.06838064099998,75.06965764799997,76.07018294799991,77.07077397100011,78.07203808400004,79.07330134299991,80.0743387340001,81.07535013999995,82.07623694600011,83.07688966399996,84.07734547500013,85.0780392260001,86.07901916200012,87.07970059100012,88.08095349900009,89.08139383599996,90.08221485900003,91.08281776100011,92.08318964099999,93.08365559899994,94.08496205400002,95.08596603299998,96.0872020270001,97.08758999299994,98.08885862300008,99.08971429000007,100.09037412099997,101.09161971999993,102.09222367999996,103.09256497799993,104.09283838200008,105.09411161100002,106.09504806299992,107.09632350600009,108.09695465799996,109.0980028680001,110.09868612600008,111.09904555100002,112.10034456500011,113.10089314600009,114.10179966600003,115.10298846599994,116.10390211799995,117.10486873200011,118.10554361000004,119.10633567500008,120.10758635599996,121.10884723699996,122.10920047500008,123.11016252400009,124.11096340199992,125.11177375000011,126.11303717400006,127.11331621900013,128.11358400299991,129.11414729600006,130.11539280400007,131.11587620199998,132.11714926100012,133.11849811499997,134.1187886130001,135.11946930900012,136.12048515700008,137.12169261300005,138.12216196500003,139.12250841000014,140.123749223,141.12499351199995,142.12547235600005,143.12611610499994,144.12714340000002,145.127411361,146.12787631100014,147.12915659200007,148.130424403,149.13132477299996,150.13215634900007,151.13258742199992,152.13387911299992,153.13464937599997,154.13546740200013,155.1362898069999,156.1371256320001,157.13795225800004,158.139271733,159.1401590600001,160.14044346200012,161.14093955599992,162.14177917999996,163.14224614199998,164.14315795700008,165.14443206800001,166.14548336899998,167.146771511,168.14801934399998,169.1492971350001,170.14998125800003,171.15071009500002,172.15195623199997,173.15223299700006,174.15353352500006,175.15477942100006,176.1552342760001,177.156487469,178.15775522400008,179.15841556200007,180.15933789299993,181.16063992900013,182.16147472700004,183.16264122200005,184.16391876000012,185.16518796100013,186.16645873200014,187.16768402799994,188.16895891000013,189.170261836,190.17153227400013,191.17278326099995,192.17405754300012,193.174731588,194.175259632,195.17652117400007,196.177808917,197.178568391,198.17904527600012,199.18031990400004,200.18158987800007,201.18285740300007,202.18411833100004,203.18539503700003,204.18666630899997,205.18702129899998,206.18841902600002,207.18969852400005,208.19095974700008,209.191807852,210.19307783900013,211.19392839900001,212.194897889,213.19530943199993,214.1965138590001,215.19684911800005,216.19809352200014,217.1990065540001,218.20028304800007,219.20061550100013,220.2010508799999,221.20183163000002,222.20305100600012,223.20437084700006,224.2046977560001,225.20595386900004,226.20710062900002,227.20747978200006,228.20857711000008,229.20887165199997,230.21012903199994,231.21052338999993,232.21178487499992,233.2125241230001,234.2137842909999,235.21422979299996,236.21456099600005,237.21584000300004,238.21710197200014,239.21835015500005,240.21940300300002,241.22054184900003,242.22181872300007,243.22248012900013,244.22376196200003,245.22401766999997,246.2252266160001,247.22650422300012,248.22768717999998,249.22893412899998,250.22969281500013,251.23097498200013,252.2312046510001,253.23246022500007,254.23365150099994,255.23492035200002,256.236196285,257.236445301,258.23673763500005,259.2376691080001,260.23894651499995,261.240133219,262.24161161100005,263.242367046,264.243659924,265.24453233500003,266.2453458960001,267.24622032799994,268.247019849,269.24757903299997,270.2487132020001,271.2499617860001,272.2512274850001,273.251815525,274.25223138699994,275.25292100599995,276.25331013000005,277.25441247799995,278.25527067200005,279.2565126510001,280.2574312050001,281.258575843,282.258870354,283.25931061200004,284.26058571399994,285.2618761860001,286.26313402000005,287.26380340800006,288.26507644899993,289.2663211470001,290.2666864360001,291.26789032700003,292.2691660150001,293.270361159,294.27162663900003,295.27245894700013,296.27371091500004,297.2740239960001,298.27482082899996,299.27609006600005,300.277375224,301.27864826099994,302.2798860759999,303.28066387900003,304.2812401210001,305.28170994800007,306.283068083,307.2838258219999,308.2841071529999,309.28531928000007,310.28659607500003,311.287849349,312.28896869799996,313.29023354100013,314.291507872,315.29227039600005,316.293117272,317.2934585140001,318.29472071300006,319.2952936270001,320.29599662300006,321.29709171900004,322.2983804400001,323.29967850799994,324.300035106,325.3006176189999,326.30143348599995,327.3020626740001,328.302671421,329.304163669,330.3054357660001,331.3057540279999,332.30673827400005,333.307144589,334.3084332820001,335.30881448900004,336.31012122800007,337.311505334,338.312766451,339.31374645899996,340.3141323940001,341.3153875370001,342.3166840880001,343.317956179,344.3183873969999,345.319567192,346.32071380599996,347.321994144,348.32313860399995,349.3243906350001,350.324691992,351.32595518900007,352.3268852660001,353.3281543840001,354.32894605599995,355.330378331,356.33164324400013,357.3325419580001,358.33381132499994,359.33506528399994,360.336320013,361.33759099300005,362.33825034000006,363.33852576699996,364.33981492399994,365.3406482099999,366.3418005010001,367.3430651210001,368.34434517599993,369.34505930599994,370.34538160500006,371.3466442419999,372.3475818889999,373.348529696,374.3489357589999,375.3499219319999,376.351197299,377.3524800739999,378.3532193169999,379.35348496200004,380.354747957,381.35603591400013,382.35637049499996,383.35766569199996,384.35857617600004,385.359832759,386.3600987740001,387.3613974499999,388.361978678,389.36284133999993,390.363750257,391.36479915199993,392.365908496,393.36648373899993,394.366990321,395.368257113,396.36953800900005,397.3698522899999,398.37116164400004,399.3720401129999,400.37258539899995,401.3728513830001,402.37331702100005,403.37458047199993,404.37577864800005,405.37708039099994,406.378407403,407.37882579000006,408.38007745100003,409.3810740040001,410.38190311099993,411.38279750900006,412.3836149399999,413.384412916,414.384946762,415.38566729000013,416.386567215,417.38775816299994,418.38859434899996,419.389431781,420.39039666100007,421.39165975700007,422.3920750909999,423.3930661940001,424.39436692999993,425.395318307,426.39615548899997,427.397407808,428.39866659400013,429.39903624,430.399848026,431.40113045,432.401493994,433.4024617570001,434.4032722930001,435.40399415,436.404939065,437.40535739999996,438.4064774820001,439.40707577600006,440.40752837800005,441.408891736,442.4102251930001,443.410927118,444.41222900699995,445.41268753300005,446.41357653900013,447.414623525,448.415476225,449.4158650090001,450.41719929600004,451.418471553,452.41875455000013,453.4198525510001,454.42110585399996,455.42184032599994,456.4226331069999,457.423299239,458.42403302499997,459.42529515499996,460.4266339600001,461.42789512900004,462.42852702999994,463.42986703199995,464.43061154600014,465.4318891170001,466.43315132700013,467.4334253239999,468.4338036070001,469.43507103599995,470.436333398,471.43743416000007,472.438522421,473.4398030269999,474.44109006100007,475.441808797,476.4426328029999,477.4440590680001,478.44532247899997,479.446571856,480.447513373,481.448763418,482.44937984700005,483.4506886260001,484.45195254600003],\"y\":[0.0,99.89999999999999,99.7,99.6,104.2,99.8,100.1,99.9,104.3,99.1,100.4,100.0,104.0,100.2,99.8,100.1,99.5,104.7,100.1,99.9,100.1,103.6,100.4,100.1,100.0,99.9,104.2,99.4,99.9,100.3,104.3,99.8,99.8,100.3,104.4,100.0,100.0,99.1,100.9,103.8,99.7,99.9,100.3,104.6,99.8,99.8,100.1,104.0,99.7,99.6,100.2,99.7,103.9,100.0,99.6,99.8,104.2,99.7,99.7,100.6,103.5,99.8,100.4,99.9,100.2,104.0,99.6,99.7,100.1,104.3,99.8,100.0,100.0,104.4,100.0,99.7,99.1,100.4,104.9,99.7,99.9,100.2,104.0,99.8,99.7,100.0,104.5,99.8,100.1,99.4,100.5,103.6,99.6,99.9,99.1,105.2,99.9,99.3,100.1,104.4,99.9,100.0,99.8,99.4,103.9,99.6,99.5,99.7,103.3,100.1,99.6,100.4,99.8,104.2,99.8,99.9,99.7,103.8,100.5,99.4,100.2,104.3,99.8,99.3,99.5,99.7,104.0,99.8,99.9,100.0,104.7,99.4,99.9,99.7,98.7,104.7,99.7,100.1,100.0,104.2,99.8,99.8,100.0,99.9,104.6,100.0,99.9,99.6,104.3,100.0,100.1,99.6,105.3,99.8,99.8,99.4,100.0,104.2,99.8,99.4,100.6,104.1,99.7,99.7,100.0,103.9,99.5,100.0,100.3,99.7,104.4,99.8,99.8,99.3,104.9,99.9,99.4,99.6,104.4,100.3,100.0,99.5,100.4,104.4,99.7,100.4,99.7,104.2,99.9,100.0,99.3,104.7,99.9,99.9,99.9,99.9,104.4,99.8,99.5,100.7,104.1,100.0,99.9,99.3,104.5,99.9,100.0,99.8,99.8,104.0,99.9,99.6,100.2,104.3,100.0,99.9,99.8,103.9,99.9,100.2,100.0,99.2,104.7,100.3,100.1,99.6,103.2,100.1,100.0,99.7,104.3,99.9,99.9,99.3,100.0,104.3,100.1,99.2,100.5,104.1,100.2,99.8,99.9,100.1,104.3,99.9,99.9,99.9,103.9,100.1,100.0,99.9,104.4,99.4,100.4,98.9,99.0,104.6,99.8,100.0,99.9,103.7,100.1,99.9,99.3,104.4,99.9,99.7,99.5,100.6,103.9,99.7,99.7,99.9,104.4,99.4,100.2,99.4,104.0,99.6,100.1,99.4,100.2,103.3,99.8,99.8,100.2,103.9,99.8,100.0,99.9,104.1,99.6,99.9,99.9,100.0,102.6,99.8,100.1,99.7,104.3,99.8,99.7,100.1,103.7,100.7,99.7,99.7,100.0,103.6,99.9,99.9,99.5,104.5,100.1,99.9,99.5,99.6,103.7,99.8,100.0,100.1,103.6,100.0,99.3,99.5,104.6,100.1,100.0,99.2,99.9,104.2,99.1,100.1,99.3,104.5,99.9,99.8,100.1,104.1,99.7,99.9,99.4,100.2,104.4,99.8,99.8,99.4,105.0,99.7,99.1,100.3,99.7,104.1,99.8,98.8,99.7,104.5,99.8,100.1,99.8,104.0,100.1,100.1,99.7,100.1,104.0,100.3,99.9,99.4,104.4,100.2,99.7,99.2,101.5,102.8,99.8,100.0,98.9,105.0,99.5,100.0,99.5,104.3,99.3,99.5,99.0,99.3,104.3,98.9,98.8,99.7,99.3,103.9,99.9,95.2,99.8,103.4,100.1,100.0,99.2,100.4,103.2,99.9,98.8,99.5,104.1,99.2,99.6,100.2,99.9,103.5,100.0,99.6,100.2,102.8,99.8,100.1,99.9,99.7,103.8,99.9,99.8,100.0,103.4,100.0,99.7,99.9,103.7,99.4,98.4,99.3,99.7,102.7,99.7,95.8,97.5,75.0,76.1,97.0,98.3,99.1,98.8,103.9,99.5,98.8,99.7,99.8,103.3,98.9,99.7,99.9,99.2,103.8,97.9,99.5,97.1,103.6,99.9,99.8,99.4,99.6,104.9,100.0,99.9,98.3,104.7,99.6,100.0,100.2,104.1,100.0,99.6,100.3,99.5,103.4,98.2,99.1,99.8,104.1,100.3,99.6,100.3,103.2,100.3]},\"selected\":{\"id\":\"1330\"},\"selection_policy\":{\"id\":\"1329\"}},\"id\":\"1319\",\"type\":\"ColumnDataSource\"},{\"attributes\":{\"dimensions\":\"width\"},\"id\":\"1313\",\"type\":\"PanTool\"},{\"attributes\":{\"line_color\":\"#440154\",\"line_width\":4,\"x\":{\"field\":\"x\"},\"y\":{\"field\":\"y\"}},\"id\":\"1320\",\"type\":\"Line\"},{\"attributes\":{\"axis_label\":\"Time (s)\",\"formatter\":{\"id\":\"1325\"},\"ticker\":{\"id\":\"1303\"}},\"id\":\"1302\",\"type\":\"LinearAxis\"},{\"attributes\":{},\"id\":\"1310\",\"type\":\"SaveTool\"},{\"attributes\":{\"end\":558.501888,\"start\":195.088384},\"id\":\"1333\",\"type\":\"Range1d\"},{\"attributes\":{},\"id\":\"1327\",\"type\":\"BasicTickFormatter\"},{\"attributes\":{},\"id\":\"1330\",\"type\":\"Selection\"},{\"attributes\":{\"data_source\":{\"id\":\"1319\"},\"glyph\":{\"id\":\"1320\"},\"hover_glyph\":null,\"muted_glyph\":null,\"nonselection_glyph\":{\"id\":\"1321\"},\"selection_glyph\":null,\"view\":{\"id\":\"1323\"}},\"id\":\"1322\",\"type\":\"GlyphRenderer\"},{\"attributes\":{},\"id\":\"1346\",\"type\":\"UnionRenderers\"},{\"attributes\":{\"active_drag\":\"auto\",\"active_inspect\":\"auto\",\"active_multi\":null,\"active_scroll\":\"auto\",\"active_tap\":\"auto\",\"tools\":[{\"id\":\"1310\"},{\"id\":\"1311\"},{\"id\":\"1312\"},{\"id\":\"1313\"}]},\"id\":\"1314\",\"type\":\"Toolbar\"},{\"attributes\":{\"items\":[{\"id\":\"1332\"},{\"id\":\"1348\"}]},\"id\":\"1331\",\"type\":\"Legend\"},{\"attributes\":{\"end\":105.3},\"id\":\"1296\",\"type\":\"Range1d\"},{\"attributes\":{\"end\":484.45195254600003},\"id\":\"1294\",\"type\":\"Range1d\"},{\"attributes\":{\"data\":{\"x\":[0.0,1.002475226000115,2.0038078439999936,3.005066437000096,4.0063570170000276,5.007514153000102,6.0086671859999115,7.009724662000053,8.010486232999938,9.011772723999911,10.013020558000107,11.014075001000037,12.015347435999956,13.01560307900013,14.016493982999918,15.017749916999946,16.019021259000056,17.019577861000016,18.020850419,19.02211414599992,20.023365775000002,21.02434064299996,22.02481650300001,23.02520583599994,24.026489731000083,25.027534843000012,26.027820122000094,27.02847014500003,28.029850616999965,29.03112089000001,30.032274299999926,31.032748614999946,32.03302342000006,33.03445364799995,34.035070398000016,35.035835502000054,36.03668378800012,37.037896334999914,38.03901629000006,39.03952876700009,40.040608654999915,41.04141903300001,42.041776977999916,43.04217048800001,44.043343836000076,45.04435942300006,46.04557426800011,47.046767330999955,48.04735092100009,49.048056423999924,50.048516111000026,51.04914726800007,52.04946742099992,53.050076423000064,54.05099066799994,55.05204813599994,56.05304324400004,57.05378912800006,58.05475999700002,59.05601851799997,60.05730680400006,61.05806735100009,62.05935142199996,63.059735304000014,64.06091797800013,65.06174148200012,66.06225509399997,67.06277655500003,68.06357631100013,69.06414542099992,70.06487768700003,71.06583083400005,72.06710587800012,73.06806564299995,74.06838064099998,75.06965764799997,76.07018294799991,77.07077397100011,78.07203808400004,79.07330134299991,80.0743387340001,81.07535013999995,82.07623694600011,83.07688966399996,84.07734547500013,85.0780392260001,86.07901916200012,87.07970059100012,88.08095349900009,89.08139383599996,90.08221485900003,91.08281776100011,92.08318964099999,93.08365559899994,94.08496205400002,95.08596603299998,96.0872020270001,97.08758999299994,98.08885862300008,99.08971429000007,100.09037412099997,101.09161971999993,102.09222367999996,103.09256497799993,104.09283838200008,105.09411161100002,106.09504806299992,107.09632350600009,108.09695465799996,109.0980028680001,110.09868612600008,111.09904555100002,112.10034456500011,113.10089314600009,114.10179966600003,115.10298846599994,116.10390211799995,117.10486873200011,118.10554361000004,119.10633567500008,120.10758635599996,121.10884723699996,122.10920047500008,123.11016252400009,124.11096340199992,125.11177375000011,126.11303717400006,127.11331621900013,128.11358400299991,129.11414729600006,130.11539280400007,131.11587620199998,132.11714926100012,133.11849811499997,134.1187886130001,135.11946930900012,136.12048515700008,137.12169261300005,138.12216196500003,139.12250841000014,140.123749223,141.12499351199995,142.12547235600005,143.12611610499994,144.12714340000002,145.127411361,146.12787631100014,147.12915659200007,148.130424403,149.13132477299996,150.13215634900007,151.13258742199992,152.13387911299992,153.13464937599997,154.13546740200013,155.1362898069999,156.1371256320001,157.13795225800004,158.139271733,159.1401590600001,160.14044346200012,161.14093955599992,162.14177917999996,163.14224614199998,164.14315795700008,165.14443206800001,166.14548336899998,167.146771511,168.14801934399998,169.1492971350001,170.14998125800003,171.15071009500002,172.15195623199997,173.15223299700006,174.15353352500006,175.15477942100006,176.1552342760001,177.156487469,178.15775522400008,179.15841556200007,180.15933789299993,181.16063992900013,182.16147472700004,183.16264122200005,184.16391876000012,185.16518796100013,186.16645873200014,187.16768402799994,188.16895891000013,189.170261836,190.17153227400013,191.17278326099995,192.17405754300012,193.174731588,194.175259632,195.17652117400007,196.177808917,197.178568391,198.17904527600012,199.18031990400004,200.18158987800007,201.18285740300007,202.18411833100004,203.18539503700003,204.18666630899997,205.18702129899998,206.18841902600002,207.18969852400005,208.19095974700008,209.191807852,210.19307783900013,211.19392839900001,212.194897889,213.19530943199993,214.1965138590001,215.19684911800005,216.19809352200014,217.1990065540001,218.20028304800007,219.20061550100013,220.2010508799999,221.20183163000002,222.20305100600012,223.20437084700006,224.2046977560001,225.20595386900004,226.20710062900002,227.20747978200006,228.20857711000008,229.20887165199997,230.21012903199994,231.21052338999993,232.21178487499992,233.2125241230001,234.2137842909999,235.21422979299996,236.21456099600005,237.21584000300004,238.21710197200014,239.21835015500005,240.21940300300002,241.22054184900003,242.22181872300007,243.22248012900013,244.22376196200003,245.22401766999997,246.2252266160001,247.22650422300012,248.22768717999998,249.22893412899998,250.22969281500013,251.23097498200013,252.2312046510001,253.23246022500007,254.23365150099994,255.23492035200002,256.236196285,257.236445301,258.23673763500005,259.2376691080001,260.23894651499995,261.240133219,262.24161161100005,263.242367046,264.243659924,265.24453233500003,266.2453458960001,267.24622032799994,268.247019849,269.24757903299997,270.2487132020001,271.2499617860001,272.2512274850001,273.251815525,274.25223138699994,275.25292100599995,276.25331013000005,277.25441247799995,278.25527067200005,279.2565126510001,280.2574312050001,281.258575843,282.258870354,283.25931061200004,284.26058571399994,285.2618761860001,286.26313402000005,287.26380340800006,288.26507644899993,289.2663211470001,290.2666864360001,291.26789032700003,292.2691660150001,293.270361159,294.27162663900003,295.27245894700013,296.27371091500004,297.2740239960001,298.27482082899996,299.27609006600005,300.277375224,301.27864826099994,302.2798860759999,303.28066387900003,304.2812401210001,305.28170994800007,306.283068083,307.2838258219999,308.2841071529999,309.28531928000007,310.28659607500003,311.287849349,312.28896869799996,313.29023354100013,314.291507872,315.29227039600005,316.293117272,317.2934585140001,318.29472071300006,319.2952936270001,320.29599662300006,321.29709171900004,322.2983804400001,323.29967850799994,324.300035106,325.3006176189999,326.30143348599995,327.3020626740001,328.302671421,329.304163669,330.3054357660001,331.3057540279999,332.30673827400005,333.307144589,334.3084332820001,335.30881448900004,336.31012122800007,337.311505334,338.312766451,339.31374645899996,340.3141323940001,341.3153875370001,342.3166840880001,343.317956179,344.3183873969999,345.319567192,346.32071380599996,347.321994144,348.32313860399995,349.3243906350001,350.324691992,351.32595518900007,352.3268852660001,353.3281543840001,354.32894605599995,355.330378331,356.33164324400013,357.3325419580001,358.33381132499994,359.33506528399994,360.336320013,361.33759099300005,362.33825034000006,363.33852576699996,364.33981492399994,365.3406482099999,366.3418005010001,367.3430651210001,368.34434517599993,369.34505930599994,370.34538160500006,371.3466442419999,372.3475818889999,373.348529696,374.3489357589999,375.3499219319999,376.351197299,377.3524800739999,378.3532193169999,379.35348496200004,380.354747957,381.35603591400013,382.35637049499996,383.35766569199996,384.35857617600004,385.359832759,386.3600987740001,387.3613974499999,388.361978678,389.36284133999993,390.363750257,391.36479915199993,392.365908496,393.36648373899993,394.366990321,395.368257113,396.36953800900005,397.3698522899999,398.37116164400004,399.3720401129999,400.37258539899995,401.3728513830001,402.37331702100005,403.37458047199993,404.37577864800005,405.37708039099994,406.378407403,407.37882579000006,408.38007745100003,409.3810740040001,410.38190311099993,411.38279750900006,412.3836149399999,413.384412916,414.384946762,415.38566729000013,416.386567215,417.38775816299994,418.38859434899996,419.389431781,420.39039666100007,421.39165975700007,422.3920750909999,423.3930661940001,424.39436692999993,425.395318307,426.39615548899997,427.397407808,428.39866659400013,429.39903624,430.399848026,431.40113045,432.401493994,433.4024617570001,434.4032722930001,435.40399415,436.404939065,437.40535739999996,438.4064774820001,439.40707577600006,440.40752837800005,441.408891736,442.4102251930001,443.410927118,444.41222900699995,445.41268753300005,446.41357653900013,447.414623525,448.415476225,449.4158650090001,450.41719929600004,451.418471553,452.41875455000013,453.4198525510001,454.42110585399996,455.42184032599994,456.4226331069999,457.423299239,458.42403302499997,459.42529515499996,460.4266339600001,461.42789512900004,462.42852702999994,463.42986703199995,464.43061154600014,465.4318891170001,466.43315132700013,467.4334253239999,468.4338036070001,469.43507103599995,470.436333398,471.43743416000007,472.438522421,473.4398030269999,474.44109006100007,475.441808797,476.4426328029999,477.4440590680001,478.44532247899997,479.446571856,480.447513373,481.448763418,482.44937984700005,483.4506886260001,484.45195254600003],\"y\":[195.088384,220.250112,245.108736,270.139392,398.032896,398.032896,398.032896,498.212864,547.680256,547.680256,547.680256,547.155968,546.893824,546.89792,546.902016,546.902016,546.902016,549.916672,549.916672,549.916672,550.227968,550.260736,550.260736,550.260736,550.260736,550.260736,550.260736,550.260736,550.260736,550.260736,550.260736,550.264832,550.264832,550.264832,550.264832,550.264832,550.264832,550.264832,550.268928,550.268928,550.268928,550.268928,550.273024,550.273024,550.273024,550.273024,550.273024,550.27712,550.27712,550.27712,550.27712,550.27712,550.27712,550.281216,550.281216,550.281216,550.281216,550.281216,550.281216,550.281216,550.285312,550.285312,550.285312,550.285312,550.285312,550.309888,550.313984,550.313984,550.31808,550.31808,550.31808,550.31808,550.31808,552.411136,552.411136,552.411136,552.411136,552.411136,555.372544,555.372544,555.37664,555.37664,558.493696,558.493696,558.497792,558.497792,558.497792,558.497792,558.497792,558.497792,558.497792,558.497792,558.501888,558.501888,558.501888,558.501888,558.501888,558.501888,558.501888,558.501888,558.501888,558.501888,558.239744,558.239744,558.239744,558.239744,558.239744,558.239744,558.239744,558.239744,558.239744,558.239744,558.239744,558.239744,558.239744,558.239744,558.239744,558.239744,558.239744,558.239744,558.239744,558.239744,558.239744,558.239744,558.239744,558.239744,558.24384,558.24384,558.24384,558.24384,558.24384,558.24384,558.24384,558.24384,558.24384,558.24384,558.24384,558.24384,558.24384,558.24384,558.24384,558.24384,558.24384,558.24384,558.24384,558.24384,558.24384,558.24384,558.24384,558.24384,558.24384,558.24384,558.24384,558.24384,558.24384,558.24384,558.24384,558.247936,558.247936,558.247936,558.247936,556.703744,556.703744,556.703744,556.703744,556.711936,556.711936,556.711936,556.711936,556.711936,556.716032,556.716032,556.716032,556.716032,556.72832,556.72832,556.72832,556.72832,556.72832,556.72832,556.72832,556.72832,556.72832,556.72832,556.72832,556.72832,556.72832,556.72832,556.72832,556.72832,556.72832,556.72832,556.72832,556.72832,556.740608,556.740608,556.744704,556.744704,556.7488,556.76928,556.76928,556.76928,556.76928,556.785664,556.78976,556.78976,556.793856,556.806144,556.806144,556.806144,556.806144,556.806144,556.814336,556.822528,556.822528,556.822528,556.822528,556.822528,556.826624,556.826624,556.826624,556.826624,556.826624,556.826624,556.826624,556.843008,556.847104,556.847104,556.847104,556.847104,556.847104,556.847104,556.847104,556.867584,556.87168,556.87168,556.87168,556.87168,556.875776,556.875776,556.875776,556.875776,556.875776,556.875776,556.875776,556.875776,556.875776,556.875776,556.875776,556.875776,556.875776,556.875776,556.875776,556.875776,556.879872,556.879872,556.879872,556.879872,556.879872,556.879872,556.888064,556.89216,556.89216,556.89216,556.89216,556.89216,556.89216,556.89216,556.89216,556.89216,556.89216,556.89216,556.89216,556.89216,556.89216,556.89216,556.89216,556.89216,556.89216,556.89216,556.89216,556.89216,556.89216,556.89216,556.89216,556.896256,556.900352,556.900352,556.900352,556.900352,556.900352,556.900352,556.900352,556.900352,556.900352,556.900352,556.904448,556.904448,556.904448,556.904448,556.904448,556.904448,556.904448,556.904448,556.904448,556.908544,556.908544,556.908544,556.929024,556.929024,556.929024,556.929024,556.93312,556.93312,556.93312,556.93312,556.93312,556.93312,556.93312,556.93312,556.93312,556.93312,556.93312,556.937216,556.941312,556.941312,556.945408,556.945408,556.945408,556.965888,556.965888,556.965888,556.965888,556.965888,556.965888,556.965888,556.965888,556.965888,556.97408,556.978176,556.978176,556.978176,556.978176,556.978176,556.978176,556.978176,556.978176,556.978176,556.978176,556.978176,556.978176,556.978176,556.978176,556.978176,556.978176,556.982272,556.99456,556.99456,556.99456,556.99456,557.002752,557.002752,557.002752,557.002752,557.027328,557.027328,557.027328,557.027328,557.027328,557.027328,557.027328,557.027328,557.027328,557.047808,557.047808,557.047808,557.043712,557.043712,557.043712,557.03552,557.039616,557.039616,557.039616,557.039616,557.039616,557.039616,557.039616,557.051904,557.051904,557.051904,557.051904,557.051904,557.051904,557.051904,557.051904,557.051904,557.051904,557.051904,557.051904,557.051904,557.064192,557.064192,557.064192,556.99456,556.99456,556.99456,556.99456,556.99456,556.99456,557.002752,557.002752,557.002752,557.002752,557.002752,557.002752,557.002752,557.002752,557.002752,557.002752,557.002752,557.002752,557.002752,557.006848,557.006848,557.170688,557.170688,557.170688,557.170688,557.170688,557.170688,557.170688,557.170688,557.170688,557.170688,557.170688,557.170688,557.170688,557.056,557.056,557.056,557.039616,550.137856,540.381184,540.708864,535.49056,513.773568,509.423616,531.304448,544.894976,544.894976,544.894976,544.894976,544.935936,548.921344,548.921344,548.921344,548.950016,552.6528,552.6528,552.697856,552.697856,552.697856,552.763392,552.792064,552.79616,552.79616,552.79616,552.79616,552.79616,552.79616,552.79616,552.800256,552.800256,552.800256,552.800256,552.800256,552.800256,552.800256,552.800256,552.800256,552.800256,552.800256,552.800256,552.800256,552.800256]},\"selected\":{\"id\":\"1347\"},\"selection_policy\":{\"id\":\"1346\"}},\"id\":\"1334\",\"type\":\"ColumnDataSource\"},{\"attributes\":{},\"id\":\"1298\",\"type\":\"LinearScale\"},{\"attributes\":{\"line_alpha\":0.1,\"line_color\":\"#29788E\",\"line_width\":4,\"x\":{\"field\":\"x\"},\"y\":{\"field\":\"y\"}},\"id\":\"1336\",\"type\":\"Line\"},{\"attributes\":{\"source\":{\"id\":\"1334\"}},\"id\":\"1338\",\"type\":\"CDSView\"},{\"attributes\":{},\"id\":\"1307\",\"type\":\"BasicTicker\"},{\"attributes\":{\"source\":{\"id\":\"1319\"}},\"id\":\"1323\",\"type\":\"CDSView\"},{\"attributes\":{\"text\":\"Profile Results\"},\"id\":\"1292\",\"type\":\"Title\"},{\"attributes\":{},\"id\":\"1311\",\"type\":\"ResetTool\"},{\"attributes\":{\"axis\":{\"id\":\"1302\"},\"ticker\":null},\"id\":\"1305\",\"type\":\"Grid\"},{\"attributes\":{},\"id\":\"1329\",\"type\":\"UnionRenderers\"},{\"attributes\":{},\"id\":\"1378\",\"type\":\"BasicTicker\"},{\"attributes\":{\"data_source\":{\"id\":\"1334\"},\"glyph\":{\"id\":\"1335\"},\"hover_glyph\":null,\"muted_glyph\":null,\"nonselection_glyph\":{\"id\":\"1336\"},\"selection_glyph\":null,\"view\":{\"id\":\"1338\"},\"y_range_name\":\"memory\"},\"id\":\"1337\",\"type\":\"GlyphRenderer\"},{\"attributes\":{\"axis_label\":\"% CPU\",\"formatter\":{\"id\":\"1327\"},\"ticker\":{\"id\":\"1307\"}},\"id\":\"1306\",\"type\":\"LinearAxis\"},{\"attributes\":{\"dimensions\":\"width\"},\"id\":\"1312\",\"type\":\"WheelZoomTool\"},{\"attributes\":{},\"id\":\"1300\",\"type\":\"LinearScale\"},{\"attributes\":{\"label\":{\"value\":\"% CPU\"},\"renderers\":[{\"id\":\"1322\"}]},\"id\":\"1332\",\"type\":\"LegendItem\"},{\"attributes\":{},\"id\":\"1325\",\"type\":\"BasicTickFormatter\"},{\"attributes\":{\"line_alpha\":0.1,\"line_color\":\"#440154\",\"line_width\":4,\"x\":{\"field\":\"x\"},\"y\":{\"field\":\"y\"}},\"id\":\"1321\",\"type\":\"Line\"},{\"attributes\":{\"line_color\":\"#29788E\",\"line_width\":4,\"x\":{\"field\":\"x\"},\"y\":{\"field\":\"y\"}},\"id\":\"1335\",\"type\":\"Line\"},{\"attributes\":{\"axis_label\":\"Memory (MB)\",\"formatter\":{\"id\":\"1377\"},\"ticker\":{\"id\":\"1378\"},\"y_range_name\":\"memory\"},\"id\":\"1349\",\"type\":\"LinearAxis\"}],\"root_ids\":[\"1291\"]},\"title\":\"Bokeh Application\",\"version\":\"2.1.1\"}};\n",
       "  var render_items = [{\"docid\":\"cf62779e-f001-4286-bf2f-3cd656af9143\",\"root_ids\":[\"1291\"],\"roots\":{\"1291\":\"c075bc75-1f5f-4eee-81bd-46849ad0aa09\"}}];\n",
       "  root.Bokeh.embed.embed_items_notebook(docs_json, render_items);\n",
       "\n",
       "  }\n",
       "  if (root.Bokeh !== undefined) {\n",
       "    embed_document(root);\n",
       "  } else {\n",
       "    var attempts = 0;\n",
       "    var timer = setInterval(function(root) {\n",
       "      if (root.Bokeh !== undefined) {\n",
       "        clearInterval(timer);\n",
       "        embed_document(root);\n",
       "      } else {\n",
       "        attempts++;\n",
       "        if (attempts > 100) {\n",
       "          clearInterval(timer);\n",
       "          console.log(\"Bokeh: ERROR: Unable to run BokehJS code because BokehJS library is missing\");\n",
       "        }\n",
       "      }\n",
       "    }, 10, root)\n",
       "  }\n",
       "})(window);"
      ],
      "application/vnd.bokehjs_exec.v0+json": ""
     },
     "metadata": {
      "application/vnd.bokehjs_exec.v0+json": {
       "id": "1291"
      }
     },
     "output_type": "display_data"
    },
    {
     "data": {
      "text/html": [
       "<div style=\"display: table;\"><div style=\"display: table-row;\"><div style=\"display: table-cell;\"><b title=\"bokeh.plotting.figure.Figure\">Figure</b>(</div><div style=\"display: table-cell;\">id&nbsp;=&nbsp;'1291', <span id=\"1450\" style=\"cursor: pointer;\">&hellip;)</span></div></div><div class=\"1449\" style=\"display: none;\"><div style=\"display: table-cell;\"></div><div style=\"display: table-cell;\">above&nbsp;=&nbsp;[],</div></div><div class=\"1449\" style=\"display: none;\"><div style=\"display: table-cell;\"></div><div style=\"display: table-cell;\">align&nbsp;=&nbsp;'start',</div></div><div class=\"1449\" style=\"display: none;\"><div style=\"display: table-cell;\"></div><div style=\"display: table-cell;\">aspect_ratio&nbsp;=&nbsp;None,</div></div><div class=\"1449\" style=\"display: none;\"><div style=\"display: table-cell;\"></div><div style=\"display: table-cell;\">aspect_scale&nbsp;=&nbsp;1,</div></div><div class=\"1449\" style=\"display: none;\"><div style=\"display: table-cell;\"></div><div style=\"display: table-cell;\">background&nbsp;=&nbsp;None,</div></div><div class=\"1449\" style=\"display: none;\"><div style=\"display: table-cell;\"></div><div style=\"display: table-cell;\">background_fill_alpha&nbsp;=&nbsp;1.0,</div></div><div class=\"1449\" style=\"display: none;\"><div style=\"display: table-cell;\"></div><div style=\"display: table-cell;\">background_fill_color&nbsp;=&nbsp;'#ffffff',</div></div><div class=\"1449\" style=\"display: none;\"><div style=\"display: table-cell;\"></div><div style=\"display: table-cell;\">below&nbsp;=&nbsp;[LinearAxis(id='1302', ...)],</div></div><div class=\"1449\" style=\"display: none;\"><div style=\"display: table-cell;\"></div><div style=\"display: table-cell;\">border_fill_alpha&nbsp;=&nbsp;1.0,</div></div><div class=\"1449\" style=\"display: none;\"><div style=\"display: table-cell;\"></div><div style=\"display: table-cell;\">border_fill_color&nbsp;=&nbsp;'#ffffff',</div></div><div class=\"1449\" style=\"display: none;\"><div style=\"display: table-cell;\"></div><div style=\"display: table-cell;\">center&nbsp;=&nbsp;[Grid(id='1305', ...), Grid(id='1309', ...), Legend(id='1331', ...)],</div></div><div class=\"1449\" style=\"display: none;\"><div style=\"display: table-cell;\"></div><div style=\"display: table-cell;\">css_classes&nbsp;=&nbsp;[],</div></div><div class=\"1449\" style=\"display: none;\"><div style=\"display: table-cell;\"></div><div style=\"display: table-cell;\">disabled&nbsp;=&nbsp;False,</div></div><div class=\"1449\" style=\"display: none;\"><div style=\"display: table-cell;\"></div><div style=\"display: table-cell;\">extra_x_ranges&nbsp;=&nbsp;{},</div></div><div class=\"1449\" style=\"display: none;\"><div style=\"display: table-cell;\"></div><div style=\"display: table-cell;\">extra_y_ranges&nbsp;=&nbsp;{'memory': Range1d(id='1333', ...)},</div></div><div class=\"1449\" style=\"display: none;\"><div style=\"display: table-cell;\"></div><div style=\"display: table-cell;\">frame_height&nbsp;=&nbsp;None,</div></div><div class=\"1449\" style=\"display: none;\"><div style=\"display: table-cell;\"></div><div style=\"display: table-cell;\">frame_width&nbsp;=&nbsp;None,</div></div><div class=\"1449\" style=\"display: none;\"><div style=\"display: table-cell;\"></div><div style=\"display: table-cell;\">height&nbsp;=&nbsp;None,</div></div><div class=\"1449\" style=\"display: none;\"><div style=\"display: table-cell;\"></div><div style=\"display: table-cell;\">height_policy&nbsp;=&nbsp;'auto',</div></div><div class=\"1449\" style=\"display: none;\"><div style=\"display: table-cell;\"></div><div style=\"display: table-cell;\">hidpi&nbsp;=&nbsp;True,</div></div><div class=\"1449\" style=\"display: none;\"><div style=\"display: table-cell;\"></div><div style=\"display: table-cell;\">js_event_callbacks&nbsp;=&nbsp;{},</div></div><div class=\"1449\" style=\"display: none;\"><div style=\"display: table-cell;\"></div><div style=\"display: table-cell;\">js_property_callbacks&nbsp;=&nbsp;{},</div></div><div class=\"1449\" style=\"display: none;\"><div style=\"display: table-cell;\"></div><div style=\"display: table-cell;\">left&nbsp;=&nbsp;[LinearAxis(id='1306', ...)],</div></div><div class=\"1449\" style=\"display: none;\"><div style=\"display: table-cell;\"></div><div style=\"display: table-cell;\">lod_factor&nbsp;=&nbsp;10,</div></div><div class=\"1449\" style=\"display: none;\"><div style=\"display: table-cell;\"></div><div style=\"display: table-cell;\">lod_interval&nbsp;=&nbsp;300,</div></div><div class=\"1449\" style=\"display: none;\"><div style=\"display: table-cell;\"></div><div style=\"display: table-cell;\">lod_threshold&nbsp;=&nbsp;2000,</div></div><div class=\"1449\" style=\"display: none;\"><div style=\"display: table-cell;\"></div><div style=\"display: table-cell;\">lod_timeout&nbsp;=&nbsp;500,</div></div><div class=\"1449\" style=\"display: none;\"><div style=\"display: table-cell;\"></div><div style=\"display: table-cell;\">margin&nbsp;=&nbsp;(0, 0, 0, 0),</div></div><div class=\"1449\" style=\"display: none;\"><div style=\"display: table-cell;\"></div><div style=\"display: table-cell;\">match_aspect&nbsp;=&nbsp;False,</div></div><div class=\"1449\" style=\"display: none;\"><div style=\"display: table-cell;\"></div><div style=\"display: table-cell;\">max_height&nbsp;=&nbsp;None,</div></div><div class=\"1449\" style=\"display: none;\"><div style=\"display: table-cell;\"></div><div style=\"display: table-cell;\">max_width&nbsp;=&nbsp;None,</div></div><div class=\"1449\" style=\"display: none;\"><div style=\"display: table-cell;\"></div><div style=\"display: table-cell;\">min_border&nbsp;=&nbsp;5,</div></div><div class=\"1449\" style=\"display: none;\"><div style=\"display: table-cell;\"></div><div style=\"display: table-cell;\">min_border_bottom&nbsp;=&nbsp;None,</div></div><div class=\"1449\" style=\"display: none;\"><div style=\"display: table-cell;\"></div><div style=\"display: table-cell;\">min_border_left&nbsp;=&nbsp;None,</div></div><div class=\"1449\" style=\"display: none;\"><div style=\"display: table-cell;\"></div><div style=\"display: table-cell;\">min_border_right&nbsp;=&nbsp;None,</div></div><div class=\"1449\" style=\"display: none;\"><div style=\"display: table-cell;\"></div><div style=\"display: table-cell;\">min_border_top&nbsp;=&nbsp;None,</div></div><div class=\"1449\" style=\"display: none;\"><div style=\"display: table-cell;\"></div><div style=\"display: table-cell;\">min_height&nbsp;=&nbsp;None,</div></div><div class=\"1449\" style=\"display: none;\"><div style=\"display: table-cell;\"></div><div style=\"display: table-cell;\">min_width&nbsp;=&nbsp;None,</div></div><div class=\"1449\" style=\"display: none;\"><div style=\"display: table-cell;\"></div><div style=\"display: table-cell;\">name&nbsp;=&nbsp;None,</div></div><div class=\"1449\" style=\"display: none;\"><div style=\"display: table-cell;\"></div><div style=\"display: table-cell;\">outline_line_alpha&nbsp;=&nbsp;1.0,</div></div><div class=\"1449\" style=\"display: none;\"><div style=\"display: table-cell;\"></div><div style=\"display: table-cell;\">outline_line_cap&nbsp;=&nbsp;'butt',</div></div><div class=\"1449\" style=\"display: none;\"><div style=\"display: table-cell;\"></div><div style=\"display: table-cell;\">outline_line_color&nbsp;=&nbsp;'#e5e5e5',</div></div><div class=\"1449\" style=\"display: none;\"><div style=\"display: table-cell;\"></div><div style=\"display: table-cell;\">outline_line_dash&nbsp;=&nbsp;[],</div></div><div class=\"1449\" style=\"display: none;\"><div style=\"display: table-cell;\"></div><div style=\"display: table-cell;\">outline_line_dash_offset&nbsp;=&nbsp;0,</div></div><div class=\"1449\" style=\"display: none;\"><div style=\"display: table-cell;\"></div><div style=\"display: table-cell;\">outline_line_join&nbsp;=&nbsp;'bevel',</div></div><div class=\"1449\" style=\"display: none;\"><div style=\"display: table-cell;\"></div><div style=\"display: table-cell;\">outline_line_width&nbsp;=&nbsp;1,</div></div><div class=\"1449\" style=\"display: none;\"><div style=\"display: table-cell;\"></div><div style=\"display: table-cell;\">output_backend&nbsp;=&nbsp;'canvas',</div></div><div class=\"1449\" style=\"display: none;\"><div style=\"display: table-cell;\"></div><div style=\"display: table-cell;\">plot_height&nbsp;=&nbsp;300,</div></div><div class=\"1449\" style=\"display: none;\"><div style=\"display: table-cell;\"></div><div style=\"display: table-cell;\">plot_width&nbsp;=&nbsp;800,</div></div><div class=\"1449\" style=\"display: none;\"><div style=\"display: table-cell;\"></div><div style=\"display: table-cell;\">renderers&nbsp;=&nbsp;[GlyphRenderer(id='1322', ...), GlyphRenderer(id='1337', ...)],</div></div><div class=\"1449\" style=\"display: none;\"><div style=\"display: table-cell;\"></div><div style=\"display: table-cell;\">reset_policy&nbsp;=&nbsp;'standard',</div></div><div class=\"1449\" style=\"display: none;\"><div style=\"display: table-cell;\"></div><div style=\"display: table-cell;\">right&nbsp;=&nbsp;[LinearAxis(id='1349', ...)],</div></div><div class=\"1449\" style=\"display: none;\"><div style=\"display: table-cell;\"></div><div style=\"display: table-cell;\">sizing_mode&nbsp;=&nbsp;None,</div></div><div class=\"1449\" style=\"display: none;\"><div style=\"display: table-cell;\"></div><div style=\"display: table-cell;\">subscribed_events&nbsp;=&nbsp;[],</div></div><div class=\"1449\" style=\"display: none;\"><div style=\"display: table-cell;\"></div><div style=\"display: table-cell;\">tags&nbsp;=&nbsp;[],</div></div><div class=\"1449\" style=\"display: none;\"><div style=\"display: table-cell;\"></div><div style=\"display: table-cell;\">title&nbsp;=&nbsp;Title(id='1292', ...),</div></div><div class=\"1449\" style=\"display: none;\"><div style=\"display: table-cell;\"></div><div style=\"display: table-cell;\">title_location&nbsp;=&nbsp;'above',</div></div><div class=\"1449\" style=\"display: none;\"><div style=\"display: table-cell;\"></div><div style=\"display: table-cell;\">toolbar&nbsp;=&nbsp;Toolbar(id='1314', ...),</div></div><div class=\"1449\" style=\"display: none;\"><div style=\"display: table-cell;\"></div><div style=\"display: table-cell;\">toolbar_location&nbsp;=&nbsp;'above',</div></div><div class=\"1449\" style=\"display: none;\"><div style=\"display: table-cell;\"></div><div style=\"display: table-cell;\">toolbar_sticky&nbsp;=&nbsp;True,</div></div><div class=\"1449\" style=\"display: none;\"><div style=\"display: table-cell;\"></div><div style=\"display: table-cell;\">visible&nbsp;=&nbsp;True,</div></div><div class=\"1449\" style=\"display: none;\"><div style=\"display: table-cell;\"></div><div style=\"display: table-cell;\">width&nbsp;=&nbsp;None,</div></div><div class=\"1449\" style=\"display: none;\"><div style=\"display: table-cell;\"></div><div style=\"display: table-cell;\">width_policy&nbsp;=&nbsp;'auto',</div></div><div class=\"1449\" style=\"display: none;\"><div style=\"display: table-cell;\"></div><div style=\"display: table-cell;\">x_range&nbsp;=&nbsp;Range1d(id='1294', ...),</div></div><div class=\"1449\" style=\"display: none;\"><div style=\"display: table-cell;\"></div><div style=\"display: table-cell;\">x_scale&nbsp;=&nbsp;LinearScale(id='1298', ...),</div></div><div class=\"1449\" style=\"display: none;\"><div style=\"display: table-cell;\"></div><div style=\"display: table-cell;\">y_range&nbsp;=&nbsp;Range1d(id='1296', ...),</div></div><div class=\"1449\" style=\"display: none;\"><div style=\"display: table-cell;\"></div><div style=\"display: table-cell;\">y_scale&nbsp;=&nbsp;LinearScale(id='1300', ...))</div></div></div>\n",
       "<script>\n",
       "(function() {\n",
       "  var expanded = false;\n",
       "  var ellipsis = document.getElementById(\"1450\");\n",
       "  ellipsis.addEventListener(\"click\", function() {\n",
       "    var rows = document.getElementsByClassName(\"1449\");\n",
       "    for (var i = 0; i < rows.length; i++) {\n",
       "      var el = rows[i];\n",
       "      el.style.display = expanded ? \"none\" : \"table-row\";\n",
       "    }\n",
       "    ellipsis.innerHTML = expanded ? \"&hellip;)\" : \"&lsaquo;&lsaquo;&lsaquo;\";\n",
       "    expanded = !expanded;\n",
       "  });\n",
       "})();\n",
       "</script>\n"
      ],
      "text/plain": [
       "Figure(id='1291', ...)"
      ]
     },
     "execution_count": 19,
     "metadata": {},
     "output_type": "execute_result"
    }
   ],
   "source": [
    "prof.visualize()"
   ]
  },
  {
   "cell_type": "markdown",
   "metadata": {},
   "source": [
    "### Scikit-allel\n",
    "Note that phasing information and masks are not stored"
   ]
  },
  {
   "cell_type": "code",
   "execution_count": 10,
   "metadata": {},
   "outputs": [],
   "source": [
    "!rm -rf {output}"
   ]
  },
  {
   "cell_type": "code",
   "execution_count": 12,
   "metadata": {},
   "outputs": [],
   "source": [
    "import allel"
   ]
  },
  {
   "cell_type": "code",
   "execution_count": 13,
   "metadata": {},
   "outputs": [
    {
     "name": "stdout",
     "output_type": "stream",
     "text": [
      "CPU times: user 5min 25s, sys: 5.3 s, total: 5min 30s\n",
      "Wall time: 5min 29s\n"
     ]
    }
   ],
   "source": [
    "%%time\n",
    "with ResourceProfiler() as prof:\n",
    "    allel.vcf_to_zarr(str(vcf_path), str(output))"
   ]
  },
  {
   "cell_type": "code",
   "execution_count": 14,
   "metadata": {},
   "outputs": [
    {
     "data": {
      "text/html": [
       "\n",
       "\n",
       "\n",
       "\n",
       "\n",
       "\n",
       "  <div class=\"bk-root\" id=\"c6b8cd17-8ba5-4f75-a60b-0cfefad120ff\" data-root-id=\"1141\"></div>\n"
      ]
     },
     "metadata": {},
     "output_type": "display_data"
    },
    {
     "data": {
      "application/javascript": [
       "(function(root) {\n",
       "  function embed_document(root) {\n",
       "    \n",
       "  var docs_json = {\"3a226093-cab5-4b7e-a54b-6c96f676af7b\":{\"roots\":{\"references\":[{\"attributes\":{\"below\":[{\"id\":\"1152\"}],\"center\":[{\"id\":\"1155\"},{\"id\":\"1159\"},{\"id\":\"1181\"}],\"extra_y_ranges\":{\"memory\":{\"id\":\"1183\"}},\"left\":[{\"id\":\"1156\"}],\"plot_height\":300,\"plot_width\":800,\"renderers\":[{\"id\":\"1172\"},{\"id\":\"1187\"}],\"right\":[{\"id\":\"1199\"}],\"title\":{\"id\":\"1142\"},\"toolbar\":{\"id\":\"1164\"},\"toolbar_location\":\"above\",\"x_range\":{\"id\":\"1144\"},\"x_scale\":{\"id\":\"1148\"},\"y_range\":{\"id\":\"1146\"},\"y_scale\":{\"id\":\"1150\"}},\"id\":\"1141\",\"subtype\":\"Figure\",\"type\":\"Plot\"},{\"attributes\":{},\"id\":\"1217\",\"type\":\"BasicTicker\"},{\"attributes\":{\"line_alpha\":0.1,\"line_color\":\"#440154\",\"line_width\":4,\"x\":{\"field\":\"x\"},\"y\":{\"field\":\"y\"}},\"id\":\"1171\",\"type\":\"Line\"},{\"attributes\":{\"data\":{\"x\":[0.0,1.0017876570000226,2.0028503390000196,3.003217042000074,4.0045250900000156,5.004907531000072,6.006201493000049,7.00691904200005,8.008165736000024,9.008828798000081,10.010242786000049,11.010575689999996,12.011743697000043,13.012006227000029,14.01227941500008,15.013589850000017,16.014335805000087,17.014677825000035,18.01499840400004,19.01538481600005,20.015910389000055,21.017242639000074,22.018064994000042,23.018926107000084,24.02022055200007,25.02060094400008,26.021608356,27.022434685000007,28.023544140000013,29.024438883000016,30.025369531000024,31.025868548000062,32.02722703400002,33.02850137000007,34.029739816000074,35.03098681800009,36.03225992199998,37.03255694300003,38.03384329000005,39.03411195400008,40.03465157000005,41.035592511000004,42.03688212700001,43.038182000000006,44.03860862500005,45.03988597,46.040838876000066,47.04208217799999,48.04310447600005,49.04352421300007,50.04408260800005,51.04439460200001,52.04574023500004,53.047000044000015,54.04831735700009,55.048975704999975,56.04992089699999,57.05119274100002,58.05244767500005,59.05270152700007,60.052961252000046,61.05338626900004,62.053795225000044,63.05490111000006,64.05549654499998,65.05676706700001,66.05799145800006,67.05879220600002,68.05985505000001,69.060533179,70.06167461799998,71.06292229899998,72.06417387800002,73.06546192100006,74.06586954500006,75.06714325799999,76.06817212400006,77.068542149,78.06984233800006,79.07041894300005,80.07167421300005,81.07246727900008,82.07278831300005,83.07407539400003,84.07455241900004,85.07546904700007,86.07574017600007,87.07611656800009,88.07709684899999,89.07754699400004,90.07887954900002,91.07946105200006,92.08074985799999,93.08109869500004,94.082338144,95.08337645400002,96.08461189100001,97.08586316600008,98.08716320799999,99.08841561000008,100.08933176400001,101.09036360200002,102.09079835500006,103.09221431800006,104.09276951100003,105.09410178899998,106.094663191,107.09593440399999,108.09706102400003,109.09835244600004,110.09961533500007,111.09986317300002,112.10116896300008,113.10169202100008,114.10260164600004,115.10285465499999,116.10414446200002,117.10501940300003,118.10630820900008,119.10755837800002,120.10881131100007,121.10968451200006,122.11097020900002,123.11169666900003,124.11296749600001,125.11425735500006,126.115507654,127.11659536399998,128.11786021500006,129.11876032700002,130.12003968300007,131.12061489400003,132.121895289,133.12270998100007,134.12359352300007,135.12485407600002,136.126128312,137.12735589300007,138.12864132800007,139.12989496800003,140.13090216900002,141.13190114600002,142.13328027600005,143.1345363060001,144.13581508599998,145.13640188,146.137370239,147.13794466800005,148.13908069000001,149.14033617100006,150.14124556900003,151.142305233,152.14359011400006,153.14461334600003,154.145867125,155.14671062000002,156.147979619,157.149120478,158.150391215,159.150791648,160.151848364,161.15296080899998,162.15414923800006,163.15539616600006,164.15668929000003,165.15796625899998,166.15837310900008,167.15944648900006,168.159935476,169.16107336700009,170.16152682200004,171.16189710700007,172.16225291700005,173.163524447,174.16402132400003,175.164358892,176.16460658000005,177.16585155799999,178.16612832300007,179.16648472999998,180.1678533500001,181.16887485200004,182.17014954,183.17143093200002,184.17264975900002,185.17399392700008,186.17462208900008,187.17588811400003,188.17691491200003,189.17818916,190.17898747200002,191.18025245,192.18150587000002,193.18275439400009,194.18331208799998,195.184605056,196.18585372799998,197.18709079300004,198.18772444600006,199.18796505400007,200.18923818200005,201.19027020600004,202.19058193400008,203.19157003500004,204.19208418800008,205.19334467500005,206.19419985900004,207.19505955700004,208.195599904,209.19688835400007,210.19817061900005,211.19860886900005,212.19929604499998,213.20029109300003,214.20095339,215.202173088,216.20297673900006,217.20430155300005,218.20534445300007,219.2058120920001,220.20708467400004,221.20801014100005,222.20875775500008,223.21005803900005,224.21029999100006,225.21137779900005,226.21279816100002,227.21412734900002,228.215291427,229.21655403900002,230.21780943200008,231.21819213600008,232.21913118100008,233.21945677600002,234.22070433400006,235.22103917900006,236.22191684300003,237.22259523399998,238.22385055900008,239.22417809299998,240.22544384600008,241.226752251,242.22803817600004,243.229030481,244.23031156800005,245.23156546300004,246.23207732100002,247.23329406000005,248.23426038700006,249.23505112300006,250.23540048000007,251.236655155,252.23713541900008,253.23789392100002,254.23895191500003,255.23990836100006,256.24119190400006,257.24245535500006,258.2434186280001,259.2438115030001,260.24430082000003,261.24541700300006,262.24667546800003,263.247436312,264.2486888760001,265.2490117230001,266.25004194400003,267.25114496000003,268.252024206,269.253290202,270.254565606,271.255269516,272.256556885,273.257824035,274.258802673,275.25943607400006,276.2607035760001,277.262011399,278.26255575000005,279.26387376,280.26513724100005,281.266384594,282.26768336300006,283.268999292,284.26996395800006,285.271223406,286.2725309230001,287.27381979099994,288.27433946300005,289.2752012330001,290.2756450370001,291.27624548999995,292.2765984890001,293.27787328400007,294.27859642300007,295.279456138,296.280321933,297.28081893599995,298.28216520700005,299.28328436799995,300.2842384869999,301.285481347,302.2867444909999,303.2880211150001,304.28851669900007,305.2897587660001,306.2910052840001,307.2922903130001,308.2926371760001,309.293639742,310.29463538900006,311.2959324750001,312.29636213800006,313.29682155800003,314.297652591,315.298577592,316.2993948070001,317.300242462,318.30136684499996,319.30178033899995,320.30257608399995,321.30385588,322.3050554729999,323.30633691000014,324.30761754799994,325.308907899,326.3101701920001,327.31072152600007,328.3119312990001],\"y\":[407.814144,735.412224,735.420416,735.420416,735.424512,735.424512,735.428608,735.432704,735.4368,735.4368,735.4368,735.440896,729.960448,730.161152,730.161152,721.281024,721.752064,718.200832,715.526144,715.923456,572.891136,854.163456,854.167552,854.171648,854.171648,854.175744,854.175744,854.175744,854.347776,854.81472,855.281664,855.740416,856.215552,856.6784,857.137152,857.604096,858.07104,858.533888,859.009024,859.48416,860.000256,860.000256,860.000256,860.000256,860.004352,860.004352,860.004352,860.004352,860.004352,860.008448,860.008448,860.012544,860.01664,860.01664,860.020736,860.024832,860.024832,860.024832,860.024832,703.328256,859.963392,859.963392,859.963392,859.963392,859.963392,859.967488,859.971584,859.971584,859.971584,859.971584,859.971584,859.971584,859.971584,859.983872,859.987968,859.987968,859.987968,859.987968,859.987968,859.992064,859.992064,859.992064,859.992064,859.992064,859.992064,859.992064,859.992064,859.992064,859.992064,859.992064,859.99616,860.000256,860.004352,860.004352,860.004352,860.004352,860.004352,860.004352,635.604992,860.008448,860.012544,860.012544,860.01664,860.01664,860.020736,860.024832,860.024832,860.024832,860.024832,860.028928,860.033024,860.033024,860.03712,860.03712,860.041216,860.041216,860.045312,531.841024,860.045312,860.045312,860.045312,860.045312,860.045312,860.045312,860.045312,860.049408,860.049408,860.0576,860.0576,860.0576,860.061696,860.061696,860.061696,860.061696,860.061696,860.061696,860.061696,860.061696,860.061696,860.061696,860.061696,860.061696,860.065792,860.069888,860.069888,860.073984,860.073984,860.073984,860.073984,860.073984,860.07808,860.07808,860.07808,860.07808,860.07808,860.07808,740.950016,860.07808,860.07808,860.07808,860.07808,860.07808,860.082176,860.082176,860.086272,860.086272,860.086272,860.086272,860.086272,860.086272,860.086272,860.086272,860.086272,860.086272,860.086272,591.659008,860.34432,860.34432,860.34432,860.34432,860.34432,860.34432,860.34432,860.348416,860.348416,860.348416,860.352512,860.352512,860.352512,860.352512,860.352512,860.352512,860.352512,860.352512,860.352512,633.40544,860.352512,860.352512,860.352512,860.352512,860.352512,860.356608,860.360704,860.360704,860.3648,860.3648,860.3648,860.3648,860.3648,860.368896,860.368896,860.368896,860.368896,860.368896,532.168704,860.377088,860.381184,860.381184,860.38528,860.389376,860.393472,860.397568,860.397568,860.397568,860.397568,860.401664,860.40576,860.409856,860.409856,860.409856,860.409856,860.413952,860.413952,726.196224,860.99968,860.99968,860.99968,860.99968,860.99968,860.99968,860.99968,860.99968,860.99968,860.99968,861.003776,861.003776,861.007872,861.007872,861.007872,861.007872,861.011968,861.011968,861.011968,614.592512,861.02016,861.02016,861.024256,861.024256,861.024256,861.024256,861.024256,861.028352,861.028352,861.028352,861.028352,861.028352,861.028352,861.028352,861.028352,861.028352,861.028352,861.028352,861.032448,675.078144,861.057024,861.057024,861.057024,861.057024,861.057024,861.057024,861.057024,861.057024,861.057024,861.057024,861.057024,861.057024,861.06112,861.06112,861.06112,861.06112,861.06112,861.069312,861.069312,861.069312,861.069312,861.069312,861.069312,861.069312,861.073408,861.073408,861.077504,861.077504,861.077504,861.0816,861.0816,861.0816,861.0816,861.0816,861.0816,861.0816,861.085696,861.089792,548.184064,861.118464,861.118464,861.118464,861.118464,861.12256,861.12256,861.126656,861.126656,861.126656,861.126656,861.126656,861.126656,861.126656,861.126656,861.126656,861.126656]},\"selected\":{\"id\":\"1197\"},\"selection_policy\":{\"id\":\"1196\"}},\"id\":\"1184\",\"type\":\"ColumnDataSource\"},{\"attributes\":{\"dimensions\":\"width\"},\"id\":\"1163\",\"type\":\"PanTool\"},{\"attributes\":{\"line_color\":\"#440154\",\"line_width\":4,\"x\":{\"field\":\"x\"},\"y\":{\"field\":\"y\"}},\"id\":\"1170\",\"type\":\"Line\"},{\"attributes\":{\"line_alpha\":0.1,\"line_color\":\"#29788E\",\"line_width\":4,\"x\":{\"field\":\"x\"},\"y\":{\"field\":\"y\"}},\"id\":\"1186\",\"type\":\"Line\"},{\"attributes\":{\"active_drag\":\"auto\",\"active_inspect\":\"auto\",\"active_multi\":null,\"active_scroll\":\"auto\",\"active_tap\":\"auto\",\"tools\":[{\"id\":\"1160\"},{\"id\":\"1161\"},{\"id\":\"1162\"},{\"id\":\"1163\"}]},\"id\":\"1164\",\"type\":\"Toolbar\"},{\"attributes\":{},\"id\":\"1216\",\"type\":\"BasicTickFormatter\"},{\"attributes\":{\"data\":{\"x\":[0.0,1.0017876570000226,2.0028503390000196,3.003217042000074,4.0045250900000156,5.004907531000072,6.006201493000049,7.00691904200005,8.008165736000024,9.008828798000081,10.010242786000049,11.010575689999996,12.011743697000043,13.012006227000029,14.01227941500008,15.013589850000017,16.014335805000087,17.014677825000035,18.01499840400004,19.01538481600005,20.015910389000055,21.017242639000074,22.018064994000042,23.018926107000084,24.02022055200007,25.02060094400008,26.021608356,27.022434685000007,28.023544140000013,29.024438883000016,30.025369531000024,31.025868548000062,32.02722703400002,33.02850137000007,34.029739816000074,35.03098681800009,36.03225992199998,37.03255694300003,38.03384329000005,39.03411195400008,40.03465157000005,41.035592511000004,42.03688212700001,43.038182000000006,44.03860862500005,45.03988597,46.040838876000066,47.04208217799999,48.04310447600005,49.04352421300007,50.04408260800005,51.04439460200001,52.04574023500004,53.047000044000015,54.04831735700009,55.048975704999975,56.04992089699999,57.05119274100002,58.05244767500005,59.05270152700007,60.052961252000046,61.05338626900004,62.053795225000044,63.05490111000006,64.05549654499998,65.05676706700001,66.05799145800006,67.05879220600002,68.05985505000001,69.060533179,70.06167461799998,71.06292229899998,72.06417387800002,73.06546192100006,74.06586954500006,75.06714325799999,76.06817212400006,77.068542149,78.06984233800006,79.07041894300005,80.07167421300005,81.07246727900008,82.07278831300005,83.07407539400003,84.07455241900004,85.07546904700007,86.07574017600007,87.07611656800009,88.07709684899999,89.07754699400004,90.07887954900002,91.07946105200006,92.08074985799999,93.08109869500004,94.082338144,95.08337645400002,96.08461189100001,97.08586316600008,98.08716320799999,99.08841561000008,100.08933176400001,101.09036360200002,102.09079835500006,103.09221431800006,104.09276951100003,105.09410178899998,106.094663191,107.09593440399999,108.09706102400003,109.09835244600004,110.09961533500007,111.09986317300002,112.10116896300008,113.10169202100008,114.10260164600004,115.10285465499999,116.10414446200002,117.10501940300003,118.10630820900008,119.10755837800002,120.10881131100007,121.10968451200006,122.11097020900002,123.11169666900003,124.11296749600001,125.11425735500006,126.115507654,127.11659536399998,128.11786021500006,129.11876032700002,130.12003968300007,131.12061489400003,132.121895289,133.12270998100007,134.12359352300007,135.12485407600002,136.126128312,137.12735589300007,138.12864132800007,139.12989496800003,140.13090216900002,141.13190114600002,142.13328027600005,143.1345363060001,144.13581508599998,145.13640188,146.137370239,147.13794466800005,148.13908069000001,149.14033617100006,150.14124556900003,151.142305233,152.14359011400006,153.14461334600003,154.145867125,155.14671062000002,156.147979619,157.149120478,158.150391215,159.150791648,160.151848364,161.15296080899998,162.15414923800006,163.15539616600006,164.15668929000003,165.15796625899998,166.15837310900008,167.15944648900006,168.159935476,169.16107336700009,170.16152682200004,171.16189710700007,172.16225291700005,173.163524447,174.16402132400003,175.164358892,176.16460658000005,177.16585155799999,178.16612832300007,179.16648472999998,180.1678533500001,181.16887485200004,182.17014954,183.17143093200002,184.17264975900002,185.17399392700008,186.17462208900008,187.17588811400003,188.17691491200003,189.17818916,190.17898747200002,191.18025245,192.18150587000002,193.18275439400009,194.18331208799998,195.184605056,196.18585372799998,197.18709079300004,198.18772444600006,199.18796505400007,200.18923818200005,201.19027020600004,202.19058193400008,203.19157003500004,204.19208418800008,205.19334467500005,206.19419985900004,207.19505955700004,208.195599904,209.19688835400007,210.19817061900005,211.19860886900005,212.19929604499998,213.20029109300003,214.20095339,215.202173088,216.20297673900006,217.20430155300005,218.20534445300007,219.2058120920001,220.20708467400004,221.20801014100005,222.20875775500008,223.21005803900005,224.21029999100006,225.21137779900005,226.21279816100002,227.21412734900002,228.215291427,229.21655403900002,230.21780943200008,231.21819213600008,232.21913118100008,233.21945677600002,234.22070433400006,235.22103917900006,236.22191684300003,237.22259523399998,238.22385055900008,239.22417809299998,240.22544384600008,241.226752251,242.22803817600004,243.229030481,244.23031156800005,245.23156546300004,246.23207732100002,247.23329406000005,248.23426038700006,249.23505112300006,250.23540048000007,251.236655155,252.23713541900008,253.23789392100002,254.23895191500003,255.23990836100006,256.24119190400006,257.24245535500006,258.2434186280001,259.2438115030001,260.24430082000003,261.24541700300006,262.24667546800003,263.247436312,264.2486888760001,265.2490117230001,266.25004194400003,267.25114496000003,268.252024206,269.253290202,270.254565606,271.255269516,272.256556885,273.257824035,274.258802673,275.25943607400006,276.2607035760001,277.262011399,278.26255575000005,279.26387376,280.26513724100005,281.266384594,282.26768336300006,283.268999292,284.26996395800006,285.271223406,286.2725309230001,287.27381979099994,288.27433946300005,289.2752012330001,290.2756450370001,291.27624548999995,292.2765984890001,293.27787328400007,294.27859642300007,295.279456138,296.280321933,297.28081893599995,298.28216520700005,299.28328436799995,300.2842384869999,301.285481347,302.2867444909999,303.2880211150001,304.28851669900007,305.2897587660001,306.2910052840001,307.2922903130001,308.2926371760001,309.293639742,310.29463538900006,311.2959324750001,312.29636213800006,313.29682155800003,314.297652591,315.298577592,316.2993948070001,317.300242462,318.30136684499996,319.30178033899995,320.30257608399995,321.30385588,322.3050554729999,323.30633691000014,324.30761754799994,325.308907899,326.3101701920001,327.31072152600007,328.3119312990001],\"y\":[0.0,99.19999999999999,100.2,99.8,99.8,100.1,100.1,100.0,99.8,99.7,99.8,99.6,100.1,99.7,100.0,99.7,99.8,99.9,99.7,99.3,112.0,98.0,99.7,100.0,99.9,99.9,99.8,100.0,99.9,100.0,100.0,99.7,100.0,99.9,100.0,99.8,99.6,100.2,99.8,100.1,113.4,99.8,99.6,100.1,99.9,100.0,100.1,99.9,99.9,99.8,99.8,100.1,100.0,99.8,99.9,99.9,99.9,100.0,100.0,114.4,99.7,100.1,99.8,100.1,99.6,100.2,99.7,99.7,99.8,99.4,99.6,99.0,97.2,100.0,99.5,100.3,99.8,100.1,100.1,113.0,99.9,100.0,100.0,99.9,99.9,99.9,99.9,99.7,100.2,99.9,99.6,100.3,99.9,99.3,99.9,100.3,100.0,100.0,113.2,99.8,100.1,99.6,100.1,99.8,100.0,99.8,99.9,99.8,100.0,99.3,100.3,99.9,100.1,100.2,99.6,100.3,99.5,108.2,105.4,99.8,99.6,100.4,99.7,99.8,99.5,99.6,100.1,99.3,100.4,100.1,99.9,99.9,100.1,99.8,100.0,99.9,99.9,112.3,100.0,99.5,100.3,100.1,99.8,99.6,100.3,100.0,100.0,99.3,100.5,99.4,100.4,99.7,100.2,99.1,99.6,99.9,113.3,99.6,100.1,100.1,99.7,100.1,100.0,99.9,99.6,99.9,100.4,99.6,100.4,99.6,99.5,99.2,99.5,100.4,99.6,99.8,113.0,99.5,100.3,99.4,99.5,100.0,100.0,99.6,99.5,100.5,100.0,99.6,100.2,100.1,99.6,99.7,100.0,99.9,99.6,114.5,99.8,100.0,100.1,99.7,99.8,99.8,99.8,99.9,99.9,99.5,100.4,99.7,100.1,99.7,100.2,99.9,99.7,99.5,110.1,102.8,100.1,100.0,99.7,99.9,100.0,100.0,100.0,99.9,99.8,99.5,99.7,99.7,99.8,100.3,99.7,100.3,99.8,98.6,112.0,99.9,100.0,99.9,100.1,99.5,99.9,100.1,99.3,100.2,99.7,99.5,100.3,99.9,99.6,98.9,99.9,99.8,99.7,109.9,98.3,99.3,99.7,99.4,100.0,99.3,100.4,99.7,100.2,99.7,99.6,99.7,99.6,99.8,99.1,99.2,99.5,99.9,99.9,113.8,99.6,99.6,100.3,99.6,100.5,99.4,100.5,99.3,100.5,100.0,99.9,100.0,98.6,95.7,100.6,99.5,99.5,100.1,99.5,113.7,98.4,96.9,99.8,99.8,99.5,99.6,100.3,100.0,99.9,99.9,100.0,99.9,99.9,99.9,99.9,99.9,99.4,100.2,114.3,100.0,96.8,100.0,99.5,100.0,100.2,99.7,100.2,99.7,99.9,99.5,99.7,100.4,99.8,99.8,99.5]},\"selected\":{\"id\":\"1180\"},\"selection_policy\":{\"id\":\"1179\"}},\"id\":\"1169\",\"type\":\"ColumnDataSource\"},{\"attributes\":{\"text\":\"Profile Results\"},\"id\":\"1142\",\"type\":\"Title\"},{\"attributes\":{\"label\":{\"value\":\"Memory\"},\"renderers\":[{\"id\":\"1187\"}]},\"id\":\"1198\",\"type\":\"LegendItem\"},{\"attributes\":{\"data_source\":{\"id\":\"1184\"},\"glyph\":{\"id\":\"1185\"},\"hover_glyph\":null,\"muted_glyph\":null,\"nonselection_glyph\":{\"id\":\"1186\"},\"selection_glyph\":null,\"view\":{\"id\":\"1188\"},\"y_range_name\":\"memory\"},\"id\":\"1187\",\"type\":\"GlyphRenderer\"},{\"attributes\":{\"end\":861.126656,\"start\":407.814144},\"id\":\"1183\",\"type\":\"Range1d\"},{\"attributes\":{},\"id\":\"1150\",\"type\":\"LinearScale\"},{\"attributes\":{\"axis\":{\"id\":\"1156\"},\"dimension\":1,\"ticker\":null},\"id\":\"1159\",\"type\":\"Grid\"},{\"attributes\":{\"axis_label\":\"Memory (MB)\",\"formatter\":{\"id\":\"1216\"},\"ticker\":{\"id\":\"1217\"},\"y_range_name\":\"memory\"},\"id\":\"1199\",\"type\":\"LinearAxis\"},{\"attributes\":{},\"id\":\"1177\",\"type\":\"BasicTickFormatter\"},{\"attributes\":{\"end\":114.5},\"id\":\"1146\",\"type\":\"Range1d\"},{\"attributes\":{\"data_source\":{\"id\":\"1169\"},\"glyph\":{\"id\":\"1170\"},\"hover_glyph\":null,\"muted_glyph\":null,\"nonselection_glyph\":{\"id\":\"1171\"},\"selection_glyph\":null,\"view\":{\"id\":\"1173\"}},\"id\":\"1172\",\"type\":\"GlyphRenderer\"},{\"attributes\":{},\"id\":\"1160\",\"type\":\"SaveTool\"},{\"attributes\":{\"axis_label\":\"Time (s)\",\"formatter\":{\"id\":\"1175\"},\"ticker\":{\"id\":\"1153\"}},\"id\":\"1152\",\"type\":\"LinearAxis\"},{\"attributes\":{\"axis_label\":\"% CPU\",\"formatter\":{\"id\":\"1177\"},\"ticker\":{\"id\":\"1157\"}},\"id\":\"1156\",\"type\":\"LinearAxis\"},{\"attributes\":{},\"id\":\"1161\",\"type\":\"ResetTool\"},{\"attributes\":{\"dimensions\":\"width\"},\"id\":\"1162\",\"type\":\"WheelZoomTool\"},{\"attributes\":{},\"id\":\"1197\",\"type\":\"Selection\"},{\"attributes\":{\"items\":[{\"id\":\"1182\"},{\"id\":\"1198\"}]},\"id\":\"1181\",\"type\":\"Legend\"},{\"attributes\":{},\"id\":\"1179\",\"type\":\"UnionRenderers\"},{\"attributes\":{\"end\":328.3119312990001},\"id\":\"1144\",\"type\":\"Range1d\"},{\"attributes\":{\"source\":{\"id\":\"1184\"}},\"id\":\"1188\",\"type\":\"CDSView\"},{\"attributes\":{\"line_color\":\"#29788E\",\"line_width\":4,\"x\":{\"field\":\"x\"},\"y\":{\"field\":\"y\"}},\"id\":\"1185\",\"type\":\"Line\"},{\"attributes\":{},\"id\":\"1175\",\"type\":\"BasicTickFormatter\"},{\"attributes\":{},\"id\":\"1148\",\"type\":\"LinearScale\"},{\"attributes\":{},\"id\":\"1196\",\"type\":\"UnionRenderers\"},{\"attributes\":{\"axis\":{\"id\":\"1152\"},\"ticker\":null},\"id\":\"1155\",\"type\":\"Grid\"},{\"attributes\":{},\"id\":\"1153\",\"type\":\"BasicTicker\"},{\"attributes\":{\"source\":{\"id\":\"1169\"}},\"id\":\"1173\",\"type\":\"CDSView\"},{\"attributes\":{},\"id\":\"1180\",\"type\":\"Selection\"},{\"attributes\":{\"label\":{\"value\":\"% CPU\"},\"renderers\":[{\"id\":\"1172\"}]},\"id\":\"1182\",\"type\":\"LegendItem\"},{\"attributes\":{},\"id\":\"1157\",\"type\":\"BasicTicker\"}],\"root_ids\":[\"1141\"]},\"title\":\"Bokeh Application\",\"version\":\"2.1.1\"}};\n",
       "  var render_items = [{\"docid\":\"3a226093-cab5-4b7e-a54b-6c96f676af7b\",\"root_ids\":[\"1141\"],\"roots\":{\"1141\":\"c6b8cd17-8ba5-4f75-a60b-0cfefad120ff\"}}];\n",
       "  root.Bokeh.embed.embed_items_notebook(docs_json, render_items);\n",
       "\n",
       "  }\n",
       "  if (root.Bokeh !== undefined) {\n",
       "    embed_document(root);\n",
       "  } else {\n",
       "    var attempts = 0;\n",
       "    var timer = setInterval(function(root) {\n",
       "      if (root.Bokeh !== undefined) {\n",
       "        clearInterval(timer);\n",
       "        embed_document(root);\n",
       "      } else {\n",
       "        attempts++;\n",
       "        if (attempts > 100) {\n",
       "          clearInterval(timer);\n",
       "          console.log(\"Bokeh: ERROR: Unable to run BokehJS code because BokehJS library is missing\");\n",
       "        }\n",
       "      }\n",
       "    }, 10, root)\n",
       "  }\n",
       "})(window);"
      ],
      "application/vnd.bokehjs_exec.v0+json": ""
     },
     "metadata": {
      "application/vnd.bokehjs_exec.v0+json": {
       "id": "1141"
      }
     },
     "output_type": "display_data"
    },
    {
     "data": {
      "text/html": [
       "<div style=\"display: table;\"><div style=\"display: table-row;\"><div style=\"display: table-cell;\"><b title=\"bokeh.plotting.figure.Figure\">Figure</b>(</div><div style=\"display: table-cell;\">id&nbsp;=&nbsp;'1141', <span id=\"1289\" style=\"cursor: pointer;\">&hellip;)</span></div></div><div class=\"1288\" style=\"display: none;\"><div style=\"display: table-cell;\"></div><div style=\"display: table-cell;\">above&nbsp;=&nbsp;[],</div></div><div class=\"1288\" style=\"display: none;\"><div style=\"display: table-cell;\"></div><div style=\"display: table-cell;\">align&nbsp;=&nbsp;'start',</div></div><div class=\"1288\" style=\"display: none;\"><div style=\"display: table-cell;\"></div><div style=\"display: table-cell;\">aspect_ratio&nbsp;=&nbsp;None,</div></div><div class=\"1288\" style=\"display: none;\"><div style=\"display: table-cell;\"></div><div style=\"display: table-cell;\">aspect_scale&nbsp;=&nbsp;1,</div></div><div class=\"1288\" style=\"display: none;\"><div style=\"display: table-cell;\"></div><div style=\"display: table-cell;\">background&nbsp;=&nbsp;None,</div></div><div class=\"1288\" style=\"display: none;\"><div style=\"display: table-cell;\"></div><div style=\"display: table-cell;\">background_fill_alpha&nbsp;=&nbsp;1.0,</div></div><div class=\"1288\" style=\"display: none;\"><div style=\"display: table-cell;\"></div><div style=\"display: table-cell;\">background_fill_color&nbsp;=&nbsp;'#ffffff',</div></div><div class=\"1288\" style=\"display: none;\"><div style=\"display: table-cell;\"></div><div style=\"display: table-cell;\">below&nbsp;=&nbsp;[LinearAxis(id='1152', ...)],</div></div><div class=\"1288\" style=\"display: none;\"><div style=\"display: table-cell;\"></div><div style=\"display: table-cell;\">border_fill_alpha&nbsp;=&nbsp;1.0,</div></div><div class=\"1288\" style=\"display: none;\"><div style=\"display: table-cell;\"></div><div style=\"display: table-cell;\">border_fill_color&nbsp;=&nbsp;'#ffffff',</div></div><div class=\"1288\" style=\"display: none;\"><div style=\"display: table-cell;\"></div><div style=\"display: table-cell;\">center&nbsp;=&nbsp;[Grid(id='1155', ...), Grid(id='1159', ...), Legend(id='1181', ...)],</div></div><div class=\"1288\" style=\"display: none;\"><div style=\"display: table-cell;\"></div><div style=\"display: table-cell;\">css_classes&nbsp;=&nbsp;[],</div></div><div class=\"1288\" style=\"display: none;\"><div style=\"display: table-cell;\"></div><div style=\"display: table-cell;\">disabled&nbsp;=&nbsp;False,</div></div><div class=\"1288\" style=\"display: none;\"><div style=\"display: table-cell;\"></div><div style=\"display: table-cell;\">extra_x_ranges&nbsp;=&nbsp;{},</div></div><div class=\"1288\" style=\"display: none;\"><div style=\"display: table-cell;\"></div><div style=\"display: table-cell;\">extra_y_ranges&nbsp;=&nbsp;{'memory': Range1d(id='1183', ...)},</div></div><div class=\"1288\" style=\"display: none;\"><div style=\"display: table-cell;\"></div><div style=\"display: table-cell;\">frame_height&nbsp;=&nbsp;None,</div></div><div class=\"1288\" style=\"display: none;\"><div style=\"display: table-cell;\"></div><div style=\"display: table-cell;\">frame_width&nbsp;=&nbsp;None,</div></div><div class=\"1288\" style=\"display: none;\"><div style=\"display: table-cell;\"></div><div style=\"display: table-cell;\">height&nbsp;=&nbsp;None,</div></div><div class=\"1288\" style=\"display: none;\"><div style=\"display: table-cell;\"></div><div style=\"display: table-cell;\">height_policy&nbsp;=&nbsp;'auto',</div></div><div class=\"1288\" style=\"display: none;\"><div style=\"display: table-cell;\"></div><div style=\"display: table-cell;\">hidpi&nbsp;=&nbsp;True,</div></div><div class=\"1288\" style=\"display: none;\"><div style=\"display: table-cell;\"></div><div style=\"display: table-cell;\">js_event_callbacks&nbsp;=&nbsp;{},</div></div><div class=\"1288\" style=\"display: none;\"><div style=\"display: table-cell;\"></div><div style=\"display: table-cell;\">js_property_callbacks&nbsp;=&nbsp;{},</div></div><div class=\"1288\" style=\"display: none;\"><div style=\"display: table-cell;\"></div><div style=\"display: table-cell;\">left&nbsp;=&nbsp;[LinearAxis(id='1156', ...)],</div></div><div class=\"1288\" style=\"display: none;\"><div style=\"display: table-cell;\"></div><div style=\"display: table-cell;\">lod_factor&nbsp;=&nbsp;10,</div></div><div class=\"1288\" style=\"display: none;\"><div style=\"display: table-cell;\"></div><div style=\"display: table-cell;\">lod_interval&nbsp;=&nbsp;300,</div></div><div class=\"1288\" style=\"display: none;\"><div style=\"display: table-cell;\"></div><div style=\"display: table-cell;\">lod_threshold&nbsp;=&nbsp;2000,</div></div><div class=\"1288\" style=\"display: none;\"><div style=\"display: table-cell;\"></div><div style=\"display: table-cell;\">lod_timeout&nbsp;=&nbsp;500,</div></div><div class=\"1288\" style=\"display: none;\"><div style=\"display: table-cell;\"></div><div style=\"display: table-cell;\">margin&nbsp;=&nbsp;(0, 0, 0, 0),</div></div><div class=\"1288\" style=\"display: none;\"><div style=\"display: table-cell;\"></div><div style=\"display: table-cell;\">match_aspect&nbsp;=&nbsp;False,</div></div><div class=\"1288\" style=\"display: none;\"><div style=\"display: table-cell;\"></div><div style=\"display: table-cell;\">max_height&nbsp;=&nbsp;None,</div></div><div class=\"1288\" style=\"display: none;\"><div style=\"display: table-cell;\"></div><div style=\"display: table-cell;\">max_width&nbsp;=&nbsp;None,</div></div><div class=\"1288\" style=\"display: none;\"><div style=\"display: table-cell;\"></div><div style=\"display: table-cell;\">min_border&nbsp;=&nbsp;5,</div></div><div class=\"1288\" style=\"display: none;\"><div style=\"display: table-cell;\"></div><div style=\"display: table-cell;\">min_border_bottom&nbsp;=&nbsp;None,</div></div><div class=\"1288\" style=\"display: none;\"><div style=\"display: table-cell;\"></div><div style=\"display: table-cell;\">min_border_left&nbsp;=&nbsp;None,</div></div><div class=\"1288\" style=\"display: none;\"><div style=\"display: table-cell;\"></div><div style=\"display: table-cell;\">min_border_right&nbsp;=&nbsp;None,</div></div><div class=\"1288\" style=\"display: none;\"><div style=\"display: table-cell;\"></div><div style=\"display: table-cell;\">min_border_top&nbsp;=&nbsp;None,</div></div><div class=\"1288\" style=\"display: none;\"><div style=\"display: table-cell;\"></div><div style=\"display: table-cell;\">min_height&nbsp;=&nbsp;None,</div></div><div class=\"1288\" style=\"display: none;\"><div style=\"display: table-cell;\"></div><div style=\"display: table-cell;\">min_width&nbsp;=&nbsp;None,</div></div><div class=\"1288\" style=\"display: none;\"><div style=\"display: table-cell;\"></div><div style=\"display: table-cell;\">name&nbsp;=&nbsp;None,</div></div><div class=\"1288\" style=\"display: none;\"><div style=\"display: table-cell;\"></div><div style=\"display: table-cell;\">outline_line_alpha&nbsp;=&nbsp;1.0,</div></div><div class=\"1288\" style=\"display: none;\"><div style=\"display: table-cell;\"></div><div style=\"display: table-cell;\">outline_line_cap&nbsp;=&nbsp;'butt',</div></div><div class=\"1288\" style=\"display: none;\"><div style=\"display: table-cell;\"></div><div style=\"display: table-cell;\">outline_line_color&nbsp;=&nbsp;'#e5e5e5',</div></div><div class=\"1288\" style=\"display: none;\"><div style=\"display: table-cell;\"></div><div style=\"display: table-cell;\">outline_line_dash&nbsp;=&nbsp;[],</div></div><div class=\"1288\" style=\"display: none;\"><div style=\"display: table-cell;\"></div><div style=\"display: table-cell;\">outline_line_dash_offset&nbsp;=&nbsp;0,</div></div><div class=\"1288\" style=\"display: none;\"><div style=\"display: table-cell;\"></div><div style=\"display: table-cell;\">outline_line_join&nbsp;=&nbsp;'bevel',</div></div><div class=\"1288\" style=\"display: none;\"><div style=\"display: table-cell;\"></div><div style=\"display: table-cell;\">outline_line_width&nbsp;=&nbsp;1,</div></div><div class=\"1288\" style=\"display: none;\"><div style=\"display: table-cell;\"></div><div style=\"display: table-cell;\">output_backend&nbsp;=&nbsp;'canvas',</div></div><div class=\"1288\" style=\"display: none;\"><div style=\"display: table-cell;\"></div><div style=\"display: table-cell;\">plot_height&nbsp;=&nbsp;300,</div></div><div class=\"1288\" style=\"display: none;\"><div style=\"display: table-cell;\"></div><div style=\"display: table-cell;\">plot_width&nbsp;=&nbsp;800,</div></div><div class=\"1288\" style=\"display: none;\"><div style=\"display: table-cell;\"></div><div style=\"display: table-cell;\">renderers&nbsp;=&nbsp;[GlyphRenderer(id='1172', ...), GlyphRenderer(id='1187', ...)],</div></div><div class=\"1288\" style=\"display: none;\"><div style=\"display: table-cell;\"></div><div style=\"display: table-cell;\">reset_policy&nbsp;=&nbsp;'standard',</div></div><div class=\"1288\" style=\"display: none;\"><div style=\"display: table-cell;\"></div><div style=\"display: table-cell;\">right&nbsp;=&nbsp;[LinearAxis(id='1199', ...)],</div></div><div class=\"1288\" style=\"display: none;\"><div style=\"display: table-cell;\"></div><div style=\"display: table-cell;\">sizing_mode&nbsp;=&nbsp;None,</div></div><div class=\"1288\" style=\"display: none;\"><div style=\"display: table-cell;\"></div><div style=\"display: table-cell;\">subscribed_events&nbsp;=&nbsp;[],</div></div><div class=\"1288\" style=\"display: none;\"><div style=\"display: table-cell;\"></div><div style=\"display: table-cell;\">tags&nbsp;=&nbsp;[],</div></div><div class=\"1288\" style=\"display: none;\"><div style=\"display: table-cell;\"></div><div style=\"display: table-cell;\">title&nbsp;=&nbsp;Title(id='1142', ...),</div></div><div class=\"1288\" style=\"display: none;\"><div style=\"display: table-cell;\"></div><div style=\"display: table-cell;\">title_location&nbsp;=&nbsp;'above',</div></div><div class=\"1288\" style=\"display: none;\"><div style=\"display: table-cell;\"></div><div style=\"display: table-cell;\">toolbar&nbsp;=&nbsp;Toolbar(id='1164', ...),</div></div><div class=\"1288\" style=\"display: none;\"><div style=\"display: table-cell;\"></div><div style=\"display: table-cell;\">toolbar_location&nbsp;=&nbsp;'above',</div></div><div class=\"1288\" style=\"display: none;\"><div style=\"display: table-cell;\"></div><div style=\"display: table-cell;\">toolbar_sticky&nbsp;=&nbsp;True,</div></div><div class=\"1288\" style=\"display: none;\"><div style=\"display: table-cell;\"></div><div style=\"display: table-cell;\">visible&nbsp;=&nbsp;True,</div></div><div class=\"1288\" style=\"display: none;\"><div style=\"display: table-cell;\"></div><div style=\"display: table-cell;\">width&nbsp;=&nbsp;None,</div></div><div class=\"1288\" style=\"display: none;\"><div style=\"display: table-cell;\"></div><div style=\"display: table-cell;\">width_policy&nbsp;=&nbsp;'auto',</div></div><div class=\"1288\" style=\"display: none;\"><div style=\"display: table-cell;\"></div><div style=\"display: table-cell;\">x_range&nbsp;=&nbsp;Range1d(id='1144', ...),</div></div><div class=\"1288\" style=\"display: none;\"><div style=\"display: table-cell;\"></div><div style=\"display: table-cell;\">x_scale&nbsp;=&nbsp;LinearScale(id='1148', ...),</div></div><div class=\"1288\" style=\"display: none;\"><div style=\"display: table-cell;\"></div><div style=\"display: table-cell;\">y_range&nbsp;=&nbsp;Range1d(id='1146', ...),</div></div><div class=\"1288\" style=\"display: none;\"><div style=\"display: table-cell;\"></div><div style=\"display: table-cell;\">y_scale&nbsp;=&nbsp;LinearScale(id='1150', ...))</div></div></div>\n",
       "<script>\n",
       "(function() {\n",
       "  var expanded = false;\n",
       "  var ellipsis = document.getElementById(\"1289\");\n",
       "  ellipsis.addEventListener(\"click\", function() {\n",
       "    var rows = document.getElementsByClassName(\"1288\");\n",
       "    for (var i = 0; i < rows.length; i++) {\n",
       "      var el = rows[i];\n",
       "      el.style.display = expanded ? \"none\" : \"table-row\";\n",
       "    }\n",
       "    ellipsis.innerHTML = expanded ? \"&hellip;)\" : \"&lsaquo;&lsaquo;&lsaquo;\";\n",
       "    expanded = !expanded;\n",
       "  });\n",
       "})();\n",
       "</script>\n"
      ],
      "text/plain": [
       "Figure(id='1141', ...)"
      ]
     },
     "execution_count": 14,
     "metadata": {},
     "output_type": "execute_result"
    }
   ],
   "source": [
    "prof.visualize()"
   ]
  }
 ],
 "metadata": {
  "kernelspec": {
   "display_name": "Python 3",
   "language": "python",
   "name": "python3"
  },
  "language_info": {
   "codemirror_mode": {
    "name": "ipython",
    "version": 3
   },
   "file_extension": ".py",
   "mimetype": "text/x-python",
   "name": "python",
   "nbconvert_exporter": "python",
   "pygments_lexer": "ipython3",
   "version": "3.7.6"
  }
 },
 "nbformat": 4,
 "nbformat_minor": 4
}
